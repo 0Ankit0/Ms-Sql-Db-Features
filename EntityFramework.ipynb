{
    "metadata": {
        "kernelspec": {
            "name": "SQL",
            "display_name": "SQL",
            "language": "sql"
        },
        "language_info": {
            "name": "sql",
            "version": ""
        }
    },
    "nbformat_minor": 2,
    "nbformat": 4,
    "cells": [
        {
            "cell_type": "markdown",
            "source": [
                "**Install Entity Framework Packages**\n",
                "\n",
                "```\n",
                "dotnet add package Microsoft.EntityFrameworkCore\n",
                "dotnet add package Microsoft.EntityFrameworkCore.SqlServer\n",
                "dotnet add package Microsoft.EntityFrameworkCore.Tools\n",
                "\n",
                "```\n",
                "\n",
                "**Create Data Model**\n",
                "\n",
                "```\n",
                "public class ApplicationDbContext : DbContext\n",
                "{\n",
                "    public ApplicationDbContext(DbContextOptions<ApplicationDbContext> options)\n",
                "        : base(options)\n",
                "    {\n",
                "    }\n",
                "\n",
                "    public DbSet<MyEntity> MyEntities { get; set; }\n",
                "}\n",
                "\n",
                "public class MyEntity\n",
                "{\n",
                "    public int Id { get; set; }\n",
                "    public string Name { get; set; }\n",
                "}\n",
                "\n",
                "```\n",
                "\n",
                "**Configure Entity Framework Core with SQL Server**\n",
                "\n",
                "```\n",
                "builder.Services.AddDbContext<ApplicationDbContext>(options =>\n",
                "    options.UseSqlServer(builder.Configuration.GetConnectionString(\"DefaultConnection\")));\n",
                "\n",
                "```"
            ],
            "metadata": {
                "azdata_cell_guid": "ffcd8cb3-bf9b-46fe-810e-693647db16de"
            },
            "attachments": {}
        }
    ]
}