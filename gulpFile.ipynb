{
    "metadata": {
        "kernelspec": {
            "name": "SQL",
            "display_name": "SQL",
            "language": "sql"
        },
        "language_info": {
            "name": "sql",
            "version": ""
        }
    },
    "nbformat_minor": 2,
    "nbformat": 4,
    "cells": [
        {
            "cell_type": "markdown",
            "source": [
                "```\n",
                "\n",
                "var gulp = require('gulp');\n",
                "var concat = require('gulp-concat');\n",
                "var uglify = require('gulp-uglify');\n",
                "var cleanCss = require('gulp-clean-css');\n",
                "const rename = require('gulp-rename');\n",
                " \n",
                "// Existing tasks for copying and bundling\n",
                "gulp.task('copy-js', function () {\n",
                "    return gulp.src('./node_modules/**/*.js')\n",
                "        .pipe(concat('bundle.js'))\n",
                "        .pipe(gulp.dest('./js'));\n",
                "});\n",
                " \n",
                "gulp.task('copy-css', function () {\n",
                "    return gulp.src('./node_modules/**/*.css')\n",
                "        .pipe(concat('bundle.css'))\n",
                "        .pipe(gulp.dest('./css'));\n",
                "});\n",
                " \n",
                "gulp.task('minify-js', gulp.series('copy-js', function () {\n",
                "    return gulp.src('./js/bundle.js')\n",
                "        .pipe(uglify())\n",
                "        .pipe(rename({ extname: '.min.js' }))\n",
                "        .pipe(gulp.dest('./js'));\n",
                "}));\n",
                " \n",
                "gulp.task('minify-css', gulp.series('copy-css', function () {\n",
                "    return gulp.src('./css/bundle.css')\n",
                "        .pipe(cleanCss({ compatibility: 'ie8' }))\n",
                "        .pipe(rename({ extname: '.min.css' }))\n",
                "        .pipe(gulp.dest('./css'));\n",
                "}));\n",
                " \n",
                "// Default task\n",
                "gulp.task('default', gulp.series('minify-js', 'minify-css'));\n",
                "\n",
                "```"
            ],
            "metadata": {
                "azdata_cell_guid": "d45a84ee-4f3a-481b-9ddf-771e66f813b6"
            },
            "attachments": {}
        }
    ]
}