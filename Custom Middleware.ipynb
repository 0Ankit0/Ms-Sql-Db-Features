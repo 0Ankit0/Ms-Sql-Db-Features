{
    "metadata": {
        "kernelspec": {
            "name": "SQL",
            "display_name": "SQL",
            "language": "sql"
        },
        "language_info": {
            "name": "sql",
            "version": ""
        }
    },
    "nbformat_minor": 2,
    "nbformat": 4,
    "cells": [
        {
            "cell_type": "markdown",
            "source": [
                "**To use Custom middleware in asp dotnet core**"
            ],
            "metadata": {
                "language": "sql",
                "azdata_cell_guid": "bb099609-7060-4f4c-8a43-ee359de46251"
            },
            "attachments": {}
        },
        {
            "cell_type": "code",
            "source": [
                "using proj.Services;\r\n",
                "\r\n",
                "namespace proj.MiddlewareExtensions\r\n",
                "{\r\n",
                "    public static  class ApplicationBuilderExtension\r\n",
                "    {\r\n",
                "        public static void UseCustomMiddleware<T>(this IApplicationBuilder applicationBuilder)\r\n",
                "           where T : GenericType\r\n",
                "        {\r\n",
                "           //do sth\r\n",
                "        }\r\n",
                "    }\r\n",
                "}\r\n",
                ""
            ],
            "metadata": {
                "azdata_cell_guid": "f5410396-9aca-4afa-b1df-ada648655fab",
                "language": "sql"
            },
            "outputs": [],
            "execution_count": null
        },
        {
            "cell_type": "markdown",
            "source": [
                "In Program.cs"
            ],
            "metadata": {
                "azdata_cell_guid": "8846c230-4a64-43c3-945a-9d4d038e6695"
            },
            "attachments": {}
        },
        {
            "cell_type": "code",
            "source": [
                "\r\n",
                "app.UseCustomMiddleware<TypeDefined>();"
            ],
            "metadata": {
                "azdata_cell_guid": "5f51a22f-60b3-4d4d-8646-595de13afb33",
                "language": "sql"
            },
            "outputs": [],
            "execution_count": null
        }
    ]
}