{
    "metadata": {
        "kernelspec": {
            "name": "SQL",
            "display_name": "SQL",
            "language": "sql"
        },
        "language_info": {
            "name": "sql",
            "version": ""
        }
    },
    "nbformat_minor": 2,
    "nbformat": 4,
    "cells": [
        {
            "cell_type": "markdown",
            "source": [
                "![ViewModel in ASP.NET Core MVC Application](https://dotnettutorials.net/wp-content/uploads/2019/03/c-users-pranaya-pictures-view-model-representatio.png)\n",
                "\n",
                "<span style=\"color: rgb(0, 0, 0); font-family: arial, helvetica, sans-serif; font-size: 15px; text-align: justify; background-color: rgb(255, 255, 255);\">A View Model in ASP.NET Core MVC is a class that represents the data and logic required by a view. It is specifically designed to serve the needs of the user interface and does not necessarily map directly to the domain model or database entities. The primary purpose of a View Model is to encapsulate all the data that the view needs to render, making it easier to pass this data from the controller to the view. It acts as an intermediary between the controller and the view, encapsulating the data displayed or edited on the view.</span>"
            ],
            "metadata": {
                "azdata_cell_guid": "c17171aa-4403-4117-9669-5d07fa4c524c"
            },
            "attachments": {}
        },
        {
            "cell_type": "markdown",
            "source": [
                "```\n",
                "namespace YourNamespace.Models{\n",
                "    public class Student\n",
                "    {\n",
                "        public int StudentId { get; set; }\n",
                "        public string? Name { get; set; }\n",
                "        public string? Branch { get; set; }\n",
                "        public string? Section { get; set; }\n",
                "        public string? Gender { get; set; }\n",
                "    }\n",
                "}\n",
                "\n",
                "```\n",
                "```\n",
                "namespace YourNamespace.Models\n",
                "{\n",
                "    public class Address\n",
                "    {\n",
                "        public int StudentId { get; set; }\n",
                "        public string? City { get; set; }\n",
                "        public string? State { get; set; }\n",
                "        public string? Country { get; set; }\n",
                "        public string? Pin { get; set; }\n",
                "    }\n",
                "}\n",
                "\n",
                "```\n",
                "```\n",
                "using YourNamespace.Models;\n",
                "namespace YourNamespace.ViewModels{\n",
                "    public class StudentDetailsViewModel\n",
                "    {\n",
                "        public Student? Student { get; set; }\n",
                "        public Address? Address { get; set; }\n",
                "        public string? Title { get; set; }\n",
                "        public string? Header { get; set; }\n",
                "    }\n",
                "}\n",
                "\n",
                "```"
            ],
            "metadata": {
                "azdata_cell_guid": "2849decc-9713-479e-a258-ca74b257f622"
            },
            "attachments": {}
        },
        {
            "cell_type": "markdown",
            "source": [
                "```\n",
                "using YourNamespace.Models;using YourNamespace.ViewModels;using Microsoft.AspNetCore.Mvc;\n",
                "\n",
                "namespace FirstCoreMVCWebApplication.Controllers\n",
                "{\n",
                "    public class StudentController : Controller\n",
                "    {\n",
                "        public ViewResult Details()\n",
                "        {\n",
                "            //Student Basic Details\n",
                "            Student student = new Student()\n",
                "            {\n",
                "                StudentId = 101,\n",
                "                Name = \"Bipin\",\n",
                "                Branch = \"BCA\",\n",
                "                Section = \"A\",\n",
                "                Gender = \"Male\"\n",
                "            };\n",
                "\n",
                "            //Student Address\n",
                "            Address address = new Address()\n",
                "            {\n",
                "                StudentId = 101,\n",
                "                City = \"Pokhara\",\n",
                "                State = \"Gandaki\",\n",
                "                Country = \"Nepal\",\n",
                "                Pin = \"33700\"\n",
                "            };\n",
                "\n",
                "            //Creating the View model\n",
                "            StudentDetailsViewModel studentDetailsViewModel = new StudentDetailsViewModel()\n",
                "            {\n",
                "                Student = student,\n",
                "                Address = address,\n",
                "                Title = \"Student Details Page\",\n",
                "                Header = \"Student Details\",\n",
                "            };\n",
                "\n",
                "            //Pass the studentDetailsViewModel to the view\n",
                "            return View(studentDetailsViewModel);\n",
                "        }\n",
                "    }\n",
                "}\n",
                "\n",
                "```"
            ],
            "metadata": {
                "azdata_cell_guid": "da5c8a12-b189-437a-b354-9810311d8431"
            },
            "attachments": {}
        },
        {
            "cell_type": "markdown",
            "source": [
                "```\n",
                "@model YourNamespace.ViewModels.StudentDetailsViewModel@{\n",
                "    Layout = null;\n",
                "}\n",
                "<html xmlns=\"http://www.w3.org/1999/xhtml\">\n",
                "<head>\n",
                "    <title>@Model?.Title</title>\n",
                "</head>\n",
                "<body>\n",
                "    <h1>@Model?.Header</h1>\n",
                "    <div>\n",
                "        StudentId : @Model?.Student?.StudentId\n",
                "    </div>\n",
                "    <div>\n",
                "        Name : @Model?.Student?.Name\n",
                "    </div>\n",
                "    <div>\n",
                "        Branch : @Model?.Student?.Branch\n",
                "    </div>\n",
                "    <div>\n",
                "        Section : @Model?.Student?.Section\n",
                "    </div>\n",
                "    <div>\n",
                "        Gender : @Model?.Student?.Gender\n",
                "    </div>\n",
                "\n",
                "    <h1>Student Address</h1>\n",
                "    <div>\n",
                "        City : @Model?.Address?.City\n",
                "    </div>\n",
                "    <div>\n",
                "        State : @Model?.Address?.State\n",
                "    </div>\n",
                "    <div>\n",
                "        Country : @Model?.Address?.Country\n",
                "    </div>\n",
                "    <div>\n",
                "        Pin : @Model?.Address?.Pin\n",
                "    </div>\n",
                "</body>\n",
                "</html>\n",
                "\n",
                "```"
            ],
            "metadata": {
                "azdata_cell_guid": "a0d19427-6a3d-4ab2-a21f-af4b60b22cd8"
            },
            "attachments": {}
        },
        {
            "cell_type": "markdown",
            "source": [
                "##### <span style=\"box-sizing: inherit; border: 0px; font-size: 18px; font-style: inherit; font-weight: 700; margin: 0px; outline: 0px; padding: 0px; vertical-align: baseline;\"><span style=\"box-sizing: inherit; border: 0px; font-style: inherit; font-weight: inherit; margin: 0px; outline: 0px; padding: 0px; vertical-align: baseline; font-family: arial, helvetica, sans-serif;\">Benefits of&nbsp;<span style=\"box-sizing: inherit; border: 0px; font-style: inherit; font-weight: inherit; margin: 0px; outline: 0px; padding: 0px; vertical-align: baseline; color: rgb(0, 0, 0);\">View Model in ASP.NET Core MVC:</span></span></span>\n",
                "\n",
                "<span style=\"box-sizing: inherit; border: 0px; font-style: inherit; font-weight: inherit; margin: 0px; outline: 0px; padding: 0px; vertical-align: baseline; font-family: arial, helvetica, sans-serif; color: rgb(0, 0, 0);\">With View Model in ASP.NET Core MVC, we will get the following benefits:</span>\n",
                "\n",
                "- <span style=\"box-sizing: inherit; border: 0px; font-style: inherit; font-weight: inherit; margin: 0px; outline: 0px; padding: 0px; vertical-align: baseline; font-family: arial, helvetica, sans-serif; color: rgb(0, 0, 0);\"><span style=\"box-sizing: inherit; font-weight: 700;\">Strongly Typed:&nbsp;</span>Unlike ViewData or ViewBag, which are dynamic and loosely typed, a ViewModel is a strongly typed object. This means it has a specific, predefined structure with properties of defined types. This strong typing ensures compile-time type checking, reducing the risk of runtime errors and making the codebase more robust and maintainable.</span>\n",
                "- <span style=\"box-sizing: inherit; border: 0px; font-style: inherit; font-weight: inherit; margin: 0px; outline: 0px; padding: 0px; vertical-align: baseline; font-family: arial, helvetica, sans-serif; color: rgb(0, 0, 0);\"><span style=\"box-sizing: inherit; border: 0px; font-style: inherit; font-weight: 700; margin: 0px; outline: 0px; padding: 0px; vertical-align: baseline;\">Separation of Concerns:</span>&nbsp;View models separate the presentation layer from the business logic and data access layers. This means views are not dependent on the database schema or domain logic, promoting cleaner and more maintainable code.</span>\n",
                "- <span style=\"box-sizing: inherit; border: 0px; font-style: inherit; font-weight: inherit; margin: 0px; outline: 0px; padding: 0px; vertical-align: baseline; font-family: arial, helvetica, sans-serif; color: rgb(0, 0, 0);\"><span style=\"box-sizing: inherit; border: 0px; font-style: inherit; font-weight: 700; margin: 0px; outline: 0px; padding: 0px; vertical-align: baseline;\">UI Customization:</span>&nbsp;They allow customization of the data presentation for specific views without impacting the underlying data models.</span>\n",
                "- <span style=\"box-sizing: inherit; border: 0px; font-style: inherit; font-weight: inherit; margin: 0px; outline: 0px; padding: 0px; vertical-align: baseline; font-family: arial, helvetica, sans-serif; color: rgb(0, 0, 0);\"><span style=\"box-sizing: inherit; border: 0px; font-style: inherit; font-weight: 700; margin: 0px; outline: 0px; padding: 0px; vertical-align: baseline;\">Data Aggregation:</span>&nbsp;View models can aggregate data from multiple domain models or services into a single object that is easy for the view to consume.</span>\n",
                "- <span style=\"box-sizing: inherit; border: 0px; font-style: inherit; font-weight: inherit; margin: 0px; outline: 0px; padding: 0px; vertical-align: baseline; font-family: arial, helvetica, sans-serif; color: rgb(0, 0, 0);\"><span style=\"box-sizing: inherit; border: 0px; font-style: inherit; font-weight: 700; margin: 0px; outline: 0px; padding: 0px; vertical-align: baseline;\">Security:</span>&nbsp;Using view models can improve security by ensuring that only the necessary data is exposed to the view. It prevents over-posting attacks where users could potentially submit additional, unwanted fields through form submissions.</span>\n",
                "- <span style=\"box-sizing: inherit; border: 0px; font-style: inherit; font-weight: inherit; margin: 0px; outline: 0px; padding: 0px; vertical-align: baseline; font-family: arial, helvetica, sans-serif; color: rgb(0, 0, 0);\"><span style=\"box-sizing: inherit; border: 0px; font-style: inherit; font-weight: 700; margin: 0px; outline: 0px; padding: 0px; vertical-align: baseline;\">Optimized Data Loading:</span>&nbsp;View models can help optimize data transfers between the server and client by including only the data necessary for the view, reducing payload sizes and load times.</span>"
            ],
            "metadata": {
                "azdata_cell_guid": "94bb3b36-d4fa-45d0-b70b-b46360f988d5"
            },
            "attachments": {}
        },
        {
            "cell_type": "markdown",
            "source": [
                "**Source:**  \n",
                "[ASP.NET Core Tutorials For Beginners - DOT NET Tutorials](https:\\dotnettutorials.net\\course\\asp-net-core-tutorials\\)"
            ],
            "metadata": {
                "azdata_cell_guid": "4c306350-6c6a-44d0-832d-907508213f26"
            },
            "attachments": {}
        }
    ]
}