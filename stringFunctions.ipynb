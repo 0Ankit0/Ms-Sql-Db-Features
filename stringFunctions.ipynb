{
    "metadata": {
        "kernelspec": {
            "name": "SQL",
            "display_name": "SQL",
            "language": "sql"
        },
        "language_info": {
            "name": "sql",
            "version": ""
        }
    },
    "nbformat_minor": 2,
    "nbformat": 4,
    "cells": [
        {
            "cell_type": "code",
            "source": [
                "ISNULL(expression, replacement_value) \r\n",
                ""
            ],
            "metadata": {
                "azdata_cell_guid": "7bb3819c-ba62-4c4b-941e-c31d4a15ebdf",
                "language": "sql",
                "tags": []
            },
            "outputs": [],
            "execution_count": null
        },
        {
            "cell_type": "markdown",
            "source": [
                "<span style=\"color: rgb(27, 22, 66); font-family: &quot;DM Sans&quot;, sans-serif; font-size: 16px; background-color: rgb(255, 255, 255);\">While&nbsp;</span> `ISNULL` <span style=\"color: rgb(27, 22, 66); font-family: &quot;DM Sans&quot;, sans-serif; font-size: 16px; background-color: rgb(255, 255, 255);\">&nbsp;is a straightforward way to replace&nbsp;</span> `NULL` <span style=\"color: rgb(27, 22, 66); font-family: &quot;DM Sans&quot;, sans-serif; font-size: 16px; background-color: rgb(255, 255, 255);\">&nbsp;values, SQL Server also provides the&nbsp;</span> `COALESCE` <span style=\"color: rgb(27, 22, 66); font-family: &quot;DM Sans&quot;, sans-serif; font-size: 16px; background-color: rgb(255, 255, 255);\">&nbsp;function, which can be used to replace&nbsp;</span> `NULL` <span style=\"color: rgb(27, 22, 66); font-family: &quot;DM Sans&quot;, sans-serif; font-size: 16px; background-color: rgb(255, 255, 255);\">&nbsp;values with the first non-</span>`NULL` <span style=\"color: rgb(27, 22, 66); font-family: &quot;DM Sans&quot;, sans-serif; font-size: 16px; background-color: rgb(255, 255, 255);\">&nbsp;value in a list of expressions</span>"
            ],
            "metadata": {
                "azdata_cell_guid": "8d5a4ee9-5d0c-4485-a49f-2fb76b11267a"
            },
            "attachments": {}
        },
        {
            "cell_type": "code",
            "source": [
                "SELECT OrderID, COALESCE(OrderDate, ShipmentDate, '1900-01-01') AS OrderDate\r\n",
                "FROM Orders; \r\n",
                ""
            ],
            "metadata": {
                "azdata_cell_guid": "d0303df4-6a68-4dbb-aa1e-0d8d9e0b31ba",
                "language": "sql",
                "tags": []
            },
            "outputs": [],
            "execution_count": null
        },
        {
            "cell_type": "markdown",
            "source": [
                "<span style=\"color: rgb(27, 22, 66); font-family: &quot;DM Sans&quot;, sans-serif; font-size: 16px; background-color: rgb(255, 255, 255);\">If&nbsp;</span> `OrderDate` <span style=\"color: rgb(27, 22, 66); font-family: &quot;DM Sans&quot;, sans-serif; font-size: 16px; background-color: rgb(255, 255, 255);\">&nbsp;is not&nbsp;</span> `NULL`<span style=\"color: rgb(27, 22, 66); font-family: &quot;DM Sans&quot;, sans-serif; font-size: 16px; background-color: rgb(255, 255, 255);\">, it returns that value. If&nbsp;</span> `OrderDate` <span style=\"color: rgb(27, 22, 66); font-family: &quot;DM Sans&quot;, sans-serif; font-size: 16px; background-color: rgb(255, 255, 255);\">&nbsp;is&nbsp;</span> `NULL`<span style=\"color: rgb(27, 22, 66); font-family: &quot;DM Sans&quot;, sans-serif; font-size: 16px; background-color: rgb(255, 255, 255);\">, it moves on to&nbsp;</span> `ShipmentDate`<span style=\"color: rgb(27, 22, 66); font-family: &quot;DM Sans&quot;, sans-serif; font-size: 16px; background-color: rgb(255, 255, 255);\">. If&nbsp;</span> `ShipmentDate` <span style=\"color: rgb(27, 22, 66); font-family: &quot;DM Sans&quot;, sans-serif; font-size: 16px; background-color: rgb(255, 255, 255);\">&nbsp;is also&nbsp;</span> `NULL`<span style=\"color: rgb(27, 22, 66); font-family: &quot;DM Sans&quot;, sans-serif; font-size: 16px; background-color: rgb(255, 255, 255);\">, it finally returns the default date '1900-01-01'.</span>"
            ],
            "metadata": {
                "language": "sql",
                "azdata_cell_guid": "7ab74041-edb2-4583-a5ba-0ee0f5a03191"
            },
            "attachments": {}
        },
        {
            "cell_type": "markdown",
            "source": [
                "<span style=\"color: rgb(27, 22, 66); font-family: &quot;DM Sans&quot;, sans-serif; font-size: 16px; background-color: rgb(255, 255, 255);\">The&nbsp;</span> `LEN()` <span style=\"color: rgb(27, 22, 66); font-family: &quot;DM Sans&quot;, sans-serif; font-size: 16px; background-color: rgb(255, 255, 255);\">&nbsp;function returns the length of a string.</span>"
            ],
            "metadata": {
                "language": "sql",
                "azdata_cell_guid": "08332ea1-64ba-42a2-9ee3-f074e45b7a76"
            },
            "attachments": {}
        },
        {
            "cell_type": "code",
            "source": [
                "SELECT FirstName, LEN(FirstName) AS FirstNameLength\r\n",
                "FROM Employees;\r\n",
                ""
            ],
            "metadata": {
                "azdata_cell_guid": "94fce967-0f47-4ec3-9737-2fdea340fdf1",
                "language": "sql"
            },
            "outputs": [],
            "execution_count": null
        },
        {
            "cell_type": "markdown",
            "source": [
                "<span style=\"color: rgb(27, 22, 66); font-family: &quot;DM Sans&quot;, sans-serif; font-size: 16px; background-color: rgb(255, 255, 255);\">The&nbsp;</span> `SUBSTRING()` <span style=\"color: rgb(27, 22, 66); font-family: &quot;DM Sans&quot;, sans-serif; font-size: 16px; background-color: rgb(255, 255, 255);\">&nbsp;function extracts a part of a string.</span>"
            ],
            "metadata": {
                "azdata_cell_guid": "0ce29688-413e-4c02-973d-7f1f699f606a"
            },
            "attachments": {}
        },
        {
            "cell_type": "code",
            "source": [
                "SELECT FirstName, SUBSTRING(FirstName, 1, 3) AS FirstNameFirstThreeChars\r\n",
                "FROM Employees;\r\n",
                ""
            ],
            "metadata": {
                "azdata_cell_guid": "c2b689c6-be98-41c4-a5cf-fd9eb0346dd6",
                "language": "sql"
            },
            "outputs": [],
            "execution_count": null
        },
        {
            "cell_type": "markdown",
            "source": [
                "<span style=\"color: rgb(27, 22, 66); font-family: &quot;DM Sans&quot;, sans-serif; font-size: 16px; background-color: rgb(255, 255, 255);\">The&nbsp;</span> `CONCAT()` <span style=\"color: rgb(27, 22, 66); font-family: &quot;DM Sans&quot;, sans-serif; font-size: 16px; background-color: rgb(255, 255, 255);\">&nbsp;function concatenates two or more strings into one string.</span>"
            ],
            "metadata": {
                "azdata_cell_guid": "241f928a-d557-433d-9427-0fd8b3b62bb2"
            },
            "attachments": {}
        },
        {
            "cell_type": "code",
            "source": [
                "SELECT CONCAT(FirstName, ' ', LastName) AS FullName\r\n",
                "FROM Employees;\r\n",
                ""
            ],
            "metadata": {
                "azdata_cell_guid": "b394b265-3843-44a2-ac0f-ab1b4c8b7a1d",
                "language": "sql"
            },
            "outputs": [],
            "execution_count": null
        },
        {
            "cell_type": "markdown",
            "source": [
                "<span style=\"color: rgb(27, 22, 66); font-family: &quot;DM Sans&quot;, sans-serif; font-size: 16px; background-color: rgb(255, 255, 255);\">The&nbsp;</span> `REPLACE()` <span style=\"color: rgb(27, 22, 66); font-family: &quot;DM Sans&quot;, sans-serif; font-size: 16px; background-color: rgb(255, 255, 255);\">&nbsp;function replaces all occurrences of a specified string value with another string value.</span>"
            ],
            "metadata": {
                "language": "sql",
                "azdata_cell_guid": "542a64db-1dda-4c00-ad70-92fef4cb2d8b"
            },
            "attachments": {}
        },
        {
            "cell_type": "code",
            "source": [
                "SELECT FirstName, REPLACE(FirstName, 'a', 'x') AS FirstNameWithX\r\n",
                "FROM Employees;\r\n",
                ""
            ],
            "metadata": {
                "language": "sql",
                "azdata_cell_guid": "a2e58e51-d0db-45b7-a419-30afb73cd194"
            },
            "outputs": [],
            "execution_count": null
        },
        {
            "cell_type": "markdown",
            "source": [
                "**lower():**  <span style=\"color: rgb(39, 50, 57); font-family: Nunito, sans-serif; font-size: 18px; letter-spacing: 0.162px; background-color: rgb(255, 255, 255);\">&nbsp;This function is used to convert the given string into lower case.</span>"
            ],
            "metadata": {
                "azdata_cell_guid": "9019797d-f75e-40db-8dcb-5578a6fa5af0"
            },
            "attachments": {}
        },
        {
            "cell_type": "code",
            "source": [
                "select lower('Hello World!') as lower_case;"
            ],
            "metadata": {
                "azdata_cell_guid": "589d427c-5008-4131-85b6-4227684f1812",
                "language": "sql"
            },
            "outputs": [],
            "execution_count": null
        },
        {
            "cell_type": "markdown",
            "source": [
                "**upper():**  <span style=\"color: rgb(39, 50, 57); font-family: Nunito, sans-serif; font-size: 18px; letter-spacing: 0.162px; background-color: rgb(255, 255, 255);\">&nbsp;This function is used to convert the given string to upper case</span>"
            ],
            "metadata": {
                "language": "sql",
                "azdata_cell_guid": "ba0f2730-2d1b-4988-805f-2ee806845f0f"
            },
            "attachments": {}
        },
        {
            "cell_type": "code",
            "source": [
                "SELECT UPPER('hello world!') AS upper_case_string;"
            ],
            "metadata": {
                "language": "sql",
                "azdata_cell_guid": "67c0e7d3-440f-424a-8204-81009773210b"
            },
            "outputs": [],
            "execution_count": null
        }
    ]
}