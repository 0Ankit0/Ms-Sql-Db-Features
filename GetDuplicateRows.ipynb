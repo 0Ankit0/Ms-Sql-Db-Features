{
    "metadata": {
        "kernelspec": {
            "name": "SQL",
            "display_name": "SQL",
            "language": "sql"
        },
        "language_info": {
            "name": "sql",
            "version": ""
        }
    },
    "nbformat_minor": 2,
    "nbformat": 4,
    "cells": [
        {
            "cell_type": "markdown",
            "source": [
                "**Using join**"
            ],
            "metadata": {
                "azdata_cell_guid": "78a97828-3b4d-47c6-851e-2258ac08adff"
            },
            "attachments": {}
        },
        {
            "cell_type": "code",
            "source": [
                " SELECT a.*\r\n",
                "FROM tb_Log_CityMaster a\r\n",
                "JOIN (\r\n",
                "    SELECT CityName, COUNT(*) AS Count\r\n",
                "    FROM tb_Log_CityMaster\r\n",
                "    GROUP BY CityName\r\n",
                "    HAVING COUNT(*) > 1\r\n",
                ") b ON a.CityName = b.CityName \r\n",
                "ORDER BY a.CityName;"
            ],
            "metadata": {
                "azdata_cell_guid": "9f5d842b-8da1-4beb-ae7a-ccf39de79ceb",
                "language": "sql"
            },
            "outputs": [],
            "execution_count": null
        },
        {
            "cell_type": "markdown",
            "source": [
                "**Using CTE**"
            ],
            "metadata": {
                "language": "sql",
                "azdata_cell_guid": "e7cfda72-214c-45aa-894d-f7f2b9fdce31"
            },
            "attachments": {}
        },
        {
            "cell_type": "code",
            "source": [
                "WITH DuplicateCities AS (\r\n",
                "    SELECT CityName\r\n",
                "    FROM tb_Log_CityMaster\r\n",
                "    GROUP BY CityName\r\n",
                "    HAVING COUNT(*) > 1\r\n",
                ")\r\n",
                "SELECT a.*\r\n",
                "FROM tb_Log_CityMaster a\r\n",
                "JOIN DuplicateCities b ON a.CityName = b.CityName\r\n",
                "ORDER BY a.CityName;"
            ],
            "metadata": {
                "language": "sql",
                "azdata_cell_guid": "0f8be7fb-07ea-41de-980b-a1cfbcbcf0f4"
            },
            "outputs": [],
            "execution_count": null
        },
        {
            "cell_type": "markdown",
            "source": [
                "**Using Exists**"
            ],
            "metadata": {
                "language": "sql",
                "azdata_cell_guid": "4a6230b4-fc8f-437a-94b8-5499283c5a8f"
            },
            "attachments": {}
        },
        {
            "cell_type": "code",
            "source": [
                "SELECT a.*\r\n",
                "FROM tb_Log_CityMaster a\r\n",
                "WHERE EXISTS (\r\n",
                "    SELECT 1\r\n",
                "    FROM tb_Log_CityMaster b\r\n",
                "    WHERE a.CityName = b.CityName\r\n",
                "    GROUP BY b.CityName\r\n",
                "    HAVING COUNT(*) > 1\r\n",
                ")\r\n",
                "ORDER BY a.CityName;"
            ],
            "metadata": {
                "language": "sql",
                "azdata_cell_guid": "a3d57bf6-91ce-4ede-9f61-8ec4c8730f46"
            },
            "outputs": [],
            "execution_count": 1
        }
    ]
}