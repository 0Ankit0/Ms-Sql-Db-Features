{
    "metadata": {
        "kernelspec": {
            "name": "SQL",
            "display_name": "SQL",
            "language": "sql"
        },
        "language_info": {
            "name": "sql",
            "version": ""
        }
    },
    "nbformat_minor": 2,
    "nbformat": 4,
    "cells": [
        {
            "cell_type": "code",
            "source": [
                "-- 1. Create the asymmetric key\r\n",
                "CREATE ASYMMETRIC KEY MyAsymmetricKey   \r\n",
                "    WITH ALGORITHM = RSA_2048   \r\n",
                "    ENCRYPTION BY PASSWORD = 'StrongPassword123!';   \r\n",
                "GO\r\n",
                ""
            ],
            "metadata": {
                "azdata_cell_guid": "30027401-a59f-4d08-8167-aad13ff18fac",
                "language": "sql"
            },
            "outputs": [],
            "execution_count": null
        },
        {
            "cell_type": "code",
            "source": [
                "-- 2. Encrypt data\r\n",
                "DECLARE @KeyID int;\r\n",
                "DECLARE @EncryptedData varbinary(max);\r\n",
                "\r\n",
                "-- Retrieve the asymmetric key ID\r\n",
                "SELECT @KeyID = ASYMKEY_ID('MyAsymmetricKey');\r\n",
                "\r\n",
                "-- Encrypt the data\r\n",
                "SET @EncryptedData = EncryptByAsymKey(@KeyID, N'Sensitive data to encrypt');\r\n",
                "\r\n",
                "-- Output the encrypted data\r\n",
                "SELECT @EncryptedData AS EncryptedData;\r\n",
                ""
            ],
            "metadata": {
                "language": "sql",
                "azdata_cell_guid": "907b1e2e-8227-46a4-b474-ad1f3c6f70af"
            },
            "outputs": [],
            "execution_count": null
        },
        {
            "cell_type": "code",
            "source": [
                "-- 3. Decrypt data\r\n",
                "DECLARE @DecryptedData nvarchar(max);\r\n",
                "\r\n",
                "-- Decrypt the data\r\n",
                "SET @DecryptedData = CONVERT(nvarchar(max), DecryptByAsymKey(@KeyID, @EncryptedData, N'StrongPassword123!'));\r\n",
                "\r\n",
                "-- Output the decrypted data\r\n",
                "SELECT @DecryptedData AS DecryptedData;\r\n",
                ""
            ],
            "metadata": {
                "language": "sql",
                "azdata_cell_guid": "55c3de19-be22-4f22-b0a6-aebbfe5a9573"
            },
            "outputs": [],
            "execution_count": null
        },
        {
            "cell_type": "code",
            "source": [
                "--4. Drop the asymmetric key\r\n",
                "DROP ASYMMETRIC KEY MyAsymmetricKey;\r\n",
                ""
            ],
            "metadata": {
                "language": "sql",
                "azdata_cell_guid": "5c46e7ab-bac8-4ab1-a01e-f94c35887564"
            },
            "outputs": [],
            "execution_count": null
        },
        {
            "cell_type": "code",
            "source": [
                "--Get More info on the asymmetric keys\r\n",
                "SELECT name, algorithm_desc, key_length, pvt_key_encryption_type_desc \r\n",
                "FROM sys.asymmetric_keys;\r\n",
                "\r\n",
                "--To drop the asymmetric key\r\n",
                "DROP ASYMMETRIC KEY MyAsymmetricKey;"
            ],
            "metadata": {
                "azdata_cell_guid": "4ff3af90-caff-4e9e-ac32-6ad37536ebcc",
                "language": "sql",
                "tags": []
            },
            "outputs": [
                {
                    "output_type": "error",
                    "evalue": "Msg 102, Level 15, State 1, Line 9\r\nIncorrect syntax near 'ASYMMETRIC'.",
                    "ename": "",
                    "traceback": []
                },
                {
                    "output_type": "display_data",
                    "data": {
                        "text/html": "Total execution time: 00:00:00.003"
                    },
                    "metadata": {}
                }
            ],
            "execution_count": 3
        }
    ]
}