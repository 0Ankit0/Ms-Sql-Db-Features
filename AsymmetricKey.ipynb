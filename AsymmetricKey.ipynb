{
    "metadata": {
        "kernelspec": {
            "name": "SQL",
            "display_name": "SQL",
            "language": "sql"
        },
        "language_info": {
            "name": "sql",
            "version": ""
        }
    },
    "nbformat_minor": 2,
    "nbformat": 4,
    "cells": [
        {
            "cell_type": "code",
            "source": [
                "-- 1. Create the asymmetric key\r\n",
                "CREATE ASYMMETRIC KEY MyAsymmetricKey   \r\n",
                "    WITH ALGORITHM = RSA_2048   \r\n",
                "    ENCRYPTION BY PASSWORD = 'StrongPassword123!';   \r\n",
                "GO\r\n",
                "\r\n",
                "-- 2. Encrypt data\r\n",
                "DECLARE @KeyID int;\r\n",
                "DECLARE @EncryptedData varbinary(max);\r\n",
                "\r\n",
                "-- Retrieve the asymmetric key ID\r\n",
                "SELECT @KeyID = ASYMKEY_ID('MyAsymmetricKey');\r\n",
                "\r\n",
                "-- Encrypt the data\r\n",
                "SET @EncryptedData = EncryptByAsymKey(@KeyID, N'Sensitive data to encrypt');\r\n",
                "\r\n",
                "-- Output the encrypted data\r\n",
                "SELECT @EncryptedData AS EncryptedData;\r\n",
                "\r\n",
                "-- 3. Decrypt data\r\n",
                "DECLARE @DecryptedData nvarchar(max);\r\n",
                "\r\n",
                "-- Decrypt the data\r\n",
                "SET @DecryptedData = CONVERT(nvarchar(max), DecryptByAsymKey(@KeyID, @EncryptedData, N'StrongPassword123!'));\r\n",
                "\r\n",
                "-- Output the decrypted data\r\n",
                "SELECT @DecryptedData AS DecryptedData;\r\n",
                "\r\n",
                "--4. Drop the asymmetric key\r\n",
                "DROP ASYMMETRIC KEY MyAsymmetricKey;\r\n",
                ""
            ],
            "metadata": {
                "azdata_cell_guid": "30027401-a59f-4d08-8167-aad13ff18fac",
                "language": "sql"
            },
            "outputs": [],
            "execution_count": null
        }
    ]
}