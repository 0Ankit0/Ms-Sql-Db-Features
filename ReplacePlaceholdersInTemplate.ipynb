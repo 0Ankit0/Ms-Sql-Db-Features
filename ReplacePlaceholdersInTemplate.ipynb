{
    "metadata": {
        "kernelspec": {
            "name": "SQL",
            "display_name": "SQL",
            "language": "sql"
        },
        "language_info": {
            "name": "sql",
            "version": ""
        }
    },
    "nbformat_minor": 2,
    "nbformat": 4,
    "cells": [
        {
            "cell_type": "code",
            "source": [
                "create PROCEDURE Usp_Log_Sys_ReplacePlaceholdersInTemplate\r\n",
                "  @OrderCode nvarchar(100),\r\n",
                "  @Template NVARCHAR(MAX)\r\n",
                "AS\r\n",
                "BEGIN\r\n",
                "    DECLARE @Sql NVARCHAR(MAX);\r\n",
                "    DECLARE @ColumnName NVARCHAR(100);\r\n",
                "    DECLARE @Value NVARCHAR(500);\r\n",
                "    DECLARE @TagName NVARCHAR(200);\r\n",
                "    DECLARE cur CURSOR FOR\r\n",
                "    SELECT TagName, ColumnFor FROM tb_Log_NotificationTags;\r\n",
                "\r\n",
                "    OPEN cur;\r\n",
                "\r\n",
                "    FETCH NEXT FROM cur INTO @TagName, @ColumnName;\r\n",
                "\r\n",
                "    WHILE @@FETCH_STATUS = 0\r\n",
                "    BEGIN\r\n",
                "        IF CHARINDEX(@TagName, @Template) > 0\r\n",
                "        BEGIN\r\n",
                "            SET @Sql = N'SELECT @Value = ' + QUOTENAME(@ColumnName) + ' \r\n",
                "            FROM [dbo].[tb__Log_Order_OrderMaster] WHERE HAWB = @OrderCode';\r\n",
                "            EXEC sp_executesql @Sql, N'@OrderCode nvarchar(100), @Value NVARCHAR(500) OUTPUT', @OrderCode, @Value OUTPUT;\r\n",
                "\r\n",
                "            -- Replace the tag in the template if it exists\r\n",
                "            SET @Template = REPLACE(@Template,@TagName, ISNULL(@Value, ''));\r\n",
                "        END\r\n",
                "\r\n",
                "        FETCH NEXT FROM cur INTO @TagName, @ColumnName;\r\n",
                "    END\r\n",
                "\r\n",
                "    CLOSE cur;\r\n",
                "    DEALLOCATE cur;\r\n",
                "\r\n",
                "    -- Return the modified template\r\n",
                "    SELECT @Template AS ModifiedTemplate;\r\n",
                "END;\r\n",
                ""
            ],
            "metadata": {
                "azdata_cell_guid": "5b0e1ac3-f150-419c-97f7-2705c1a246da",
                "language": "sql"
            },
            "outputs": [],
            "execution_count": null
        }
    ]
}