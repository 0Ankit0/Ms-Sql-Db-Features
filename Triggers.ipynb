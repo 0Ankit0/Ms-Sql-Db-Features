{
    "metadata": {
        "kernelspec": {
            "name": "SQL",
            "display_name": "SQL",
            "language": "sql"
        },
        "language_info": {
            "name": "sql",
            "version": ""
        }
    },
    "nbformat_minor": 2,
    "nbformat": 4,
    "cells": [
        {
            "cell_type": "code",
            "source": [
                "CREATE TRIGGER trigger_name   \r\n",
                "ON { Table name or view name }   \r\n",
                "[ WITH <Options> ]  \r\n",
                "{ FOR | AFTER | INSTEAD OF }   \r\n",
                "{ [INSERT], [UPDATE] , [DELETE] }\r\n",
                "AS"
            ],
            "metadata": {
                "azdata_cell_guid": "7f6b646b-7eca-4ba3-a172-a0662813af3c",
                "language": "sql"
            },
            "outputs": [],
            "execution_count": null
        },
        {
            "cell_type": "markdown",
            "source": [
                "| Argument | Description |\n",
                "| --- | --- |\n",
                "| WITH \\<Options\\> | In this argument you can specify additional options for the creation of the trigger. I will cover this further on. |\n",
                "| FOR / AFTER /NSTEAD OF|Indicates when the trigger must fire when a given event happens, like an insert, update or delete event. |\n",
                " \\[INSERT\\], \\[UPDATE\\] , \\[DELETE\\]<br><br><br><br> | The DML event (or list of events) that will cause the trigger to fire.<br><br> |"
            ],
            "metadata": {
                "azdata_cell_guid": "cd2dea66-e49a-4ceb-bc1c-c3bd9221aa46"
            },
            "attachments": {}
        },
        {
            "cell_type": "markdown",
            "source": [
                "| WITH Option | Description | Remarks |\n",
                "| --- | --- | --- |\n",
                "| ENCRYPTION | Encrypts the code of the Trigger. | Doesn't work with Memory Optimized Tables |\n",
                "| EXECUTE AS | Changes the security context on which the trigger will execute | Required for triggers on memory-optimized tables. |\n",
                "| NATIVE\\_COMPILATION | Compiles the trigger code into a binary to make it run natively. | Required for triggers on memory-optimized tables. |\n",
                "| SCHEMABINDING | Ensures that tables that are referenced by a trigger cannot be dropped or altered. | Required for triggers on memory-optimized tables. |"
            ],
            "metadata": {
                "azdata_cell_guid": "682f0323-f6a3-4eb0-893f-f87c332adfda"
            },
            "attachments": {}
        }
    ]
}