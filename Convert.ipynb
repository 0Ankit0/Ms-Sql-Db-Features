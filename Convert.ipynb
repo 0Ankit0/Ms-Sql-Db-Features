{
    "metadata": {
        "kernelspec": {
            "name": "SQL",
            "display_name": "SQL",
            "language": "sql"
        },
        "language_info": {
            "name": "sql",
            "version": ""
        }
    },
    "nbformat_minor": 2,
    "nbformat": 4,
    "cells": [
        {
            "cell_type": "markdown",
            "source": [
                "Source : [SQL Server CONVERT() Function (w3schools.com)](https:\\www.w3schools.com\\SQL\\func_sqlserver_convert.asp)\n",
                "\n",
                "Syntax: <span style=\"color: rgb(0, 0, 0); font-family: Consolas, Menlo, &quot;courier new&quot;, monospace; font-size: 15px; background-color: rgb(255, 255, 255);\">CONVERT(</span>_data\\_type(length)\\_\\_,_ _expression__,_ _style_<span style=\"color: rgb(0, 0, 0); font-family: Consolas, Menlo, &quot;courier new&quot;, monospace; font-size: 15px; background-color: rgb(255, 255, 255);\">)</span>\n",
                "\n",
                "|\n",
                "\n",
                "| Without century | With century | Input/Output | Standard |\n",
                "| --- | --- | --- | --- |\n",
                "| 0 | 100 | mon dd yyyy hh:miAM/PM | Default |\n",
                "| 1 | 101 | mm/dd/yyyy | US |\n",
                "| 2 | 102 | yyyy.mm.dd | ANSI |\n",
                "| 3 | 103 | dd/mm/yyyy | British/French |\n",
                "| 4 | 104 | dd.mm.yyyy | German |\n",
                "| 5 | 105 | dd-mm-yyyy | Italian |\n",
                "| 6 | 106 | dd mon yyyy | \\- |\n",
                "| 7 | 107 | Mon dd, yyyy | \\- |\n",
                "| 8 | 108 | hh:mm:ss | \\- |\n",
                "| 9 | 109 | mon dd yyyy hh:mi:ss:mmmAM (or PM) | Default + millisec |\n",
                "| 10 | 110 | mm-dd-yyyy | USA |\n",
                "| 11 | 111 | yyyy/mm/dd | Japan |\n",
                "| 12 | 112 | yyyymmdd | ISO |\n",
                "| 13 | 113 | dd mon yyyy hh:mi:ss:mmm | Europe (24 hour clock)\\> |\n",
                "| 14 | 114 | hh:mi:ss:mmm | 24 hour clock |\n",
                "| 20 | 120 | yyyy-mm-dd hh:mi:ss | ODBC canonical (24 hour clock) |\n",
                "| 21 | 121 | yyyy-mm-dd hh:mi:ss.mmm | ODBC canonical (24 hour clock) |\n",
                "|  | 126 | yyyy-mm-ddThh:mi:ss.mmm | ISO8601 |\n",
                "|  | 127 | yyyy-mm-ddThh:mi:ss.mmmZ | ISO8601 (with time zone Z) |\n",
                "|  | 130 | dd mon yyyy hh:mi:ss:mmmAM | Hijiri |\n",
                "|  | 131 | dd/mm/yy hh:mi:ss:mmmAM | Hijiri |\n",
                "\n",
                "Converting float to real:\n",
                "\n",
                "| Value | Explanation |\n",
                "| --- | --- |\n",
                "| 0 | Maximum 6 digits (default) |\n",
                "| 1 | 8 digits |\n",
                "| 2 | 16 digits |\n",
                "\n",
                "Converting money to character:\n",
                "\n",
                "| Value | Explanation |\n",
                "| --- | --- |\n",
                "| 0 | No comma delimiters, 2 digits to the right of decimal |\n",
                "| 1 | Comma delimiters, 2 digits to the right of decimal |\n",
                "| 2 | No comma delimiters, 4 digits to the right of decimal |\n",
                "\n",
                "|\n",
                "\n",
                "<span style=\"color: rgb(0, 0, 0); font-family: Consolas, Menlo, &quot;courier new&quot;, monospace; font-size: 15px; background-color: rgb(255, 255, 255);\"><br></span>"
            ],
            "metadata": {
                "azdata_cell_guid": "5d030101-0ef9-421f-8757-5531078d8b24"
            },
            "attachments": {}
        }
    ]
}