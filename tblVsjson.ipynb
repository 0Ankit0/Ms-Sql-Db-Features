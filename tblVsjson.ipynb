{
    "metadata": {
        "kernelspec": {
            "name": "SQL",
            "display_name": "SQL",
            "language": "sql"
        },
        "language_info": {
            "name": "sql",
            "version": ""
        }
    },
    "nbformat_minor": 2,
    "nbformat": 4,
    "cells": [
        {
            "cell_type": "markdown",
            "source": [
                "**Using Table Type**"
            ],
            "metadata": {
                "azdata_cell_guid": "57bde310-2d5d-436d-b2e0-3aab05284156"
            },
            "attachments": {}
        },
        {
            "cell_type": "markdown",
            "source": [
                "```\n",
                "In Controller\n",
                "\n",
                "```\n",
                "```\n",
                "DataTable dt1 = new DataTable();\n",
                "dt1.Columns.Add(\"id\", typeof(Int32));\n",
                "dt1.Columns.Add(\"name\", typeof(String));\n",
                "foreach (var value in br.arrayList)\n",
                "{\n",
                "  DataRow row = dt1.NewRow();\n",
                "  row[\"id\"] = value.id;\n",
                "  row[\"name\"] = value.name;\n",
                "  dt1.Rows.Add(row);\n",
                "}\n",
                "\n",
                "```"
            ],
            "metadata": {
                "azdata_cell_guid": "fc72fd81-300a-4b40-b4ae-b7e995c1aa6b"
            },
            "attachments": {}
        },
        {
            "cell_type": "code",
            "source": [
                "--In Sql we take the table as a parameter and use it in the query\r\n",
                "create type dbo.PersonType as table\r\n",
                "(\r\n",
                "    id int,\r\n",
                "    name nvarchar(50)\r\n",
                ");\r\n",
                "-- declare @TblTypeEx1 dbo.PersonType \r\n",
                "-- insert into @TblTypeEx1 values (1, 'John'), (2, 'Jane')\r\n",
                "GO\r\n",
                "\r\n",
                "create PROCEDURE dbo.GetPersons --dbo.GetPersons @TblTypeEx1\r\n",
                "    @TblTypeEx dbo.PersonType READONLY -- Table-Valued Parameter\r\n",
                "\r\n",
                "AS\r\n",
                "begin\r\n",
                "SELECT id,name from @TblTypeEx\r\n",
                "end"
            ],
            "metadata": {
                "azdata_cell_guid": "7113b851-d24e-49b6-a19a-5c80d3c7a2ee",
                "language": "sql",
                "tags": []
            },
            "outputs": [],
            "execution_count": null
        },
        {
            "cell_type": "markdown",
            "source": [
                "**Using Json**"
            ],
            "metadata": {
                "azdata_cell_guid": "7cfa62df-62c9-4d34-a6e5-5664c2b8394a"
            },
            "attachments": {}
        },
        {
            "cell_type": "markdown",
            "source": [
                "**In Controller**\n",
                "\n",
                "\\-We serialize the arraylist and send it as a value to the parameter\n",
                "\n",
                "```\n",
                "string jsonEx = JsonConvert.SerializeObject(br.ArrayList);\n",
                "```"
            ],
            "metadata": {
                "azdata_cell_guid": "9e639291-8b2f-476a-b4b8-7f8a034c6e46"
            },
            "attachments": {}
        },
        {
            "cell_type": "code",
            "source": [
                "-- DECLARE @jsonEx1 NVARCHAR(MAX)='\r\n",
                "-- [\r\n",
                "--     {\r\n",
                "--         \"id\": 1,\r\n",
                "--         \"name\": \"John\"\r\n",
                "--     },\r\n",
                "--     {\r\n",
                "--         \"id\": 2,\r\n",
                "--         \"name\": \"Jane\"\r\n",
                "--     }\r\n",
                "-- ]';\r\n",
                "go\r\n",
                "create PROCEDURE dbo.GetPersons --dbo.GetPersons @jsonEx1\r\n",
                "@jsonEx NVARCHAR(MAX)\r\n",
                "as\r\n",
                "begin\r\n",
                "SELECT \r\n",
                "    id = json.id, -- Accessing the 'id' property\r\n",
                "    name = json.name -- Accessing the 'name' property\r\n",
                "FROM \r\n",
                "    OPENJSON(@jsonEx) WITH (\r\n",
                "        id INT '$.id', -- Define the 'id' column\r\n",
                "        name NVARCHAR(50) '$.name' -- Define the 'name' column\r\n",
                "    ) AS json; -- Alias the output of OPENJSON as 'json'\r\n",
                "end"
            ],
            "metadata": {
                "azdata_cell_guid": "851aa9f5-51f8-48ef-ad44-8b9b5fbd5a8f",
                "language": "sql",
                "tags": []
            },
            "outputs": [],
            "execution_count": null
        }
    ]
}