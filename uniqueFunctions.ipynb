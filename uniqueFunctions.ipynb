{
    "metadata": {
        "kernelspec": {
            "name": "SQL",
            "display_name": "SQL",
            "language": "sql"
        },
        "language_info": {
            "name": "sql",
            "version": ""
        }
    },
    "nbformat_minor": 2,
    "nbformat": 4,
    "cells": [
        {
            "cell_type": "markdown",
            "source": [
                "<span style=\"color: rgb(27, 22, 66); font-family: &quot;DM Sans&quot;, sans-serif; font-size: 16px; background-color: rgb(255, 255, 255);\">The&nbsp;</span> `STRING_AGG` <span style=\"color: rgb(27, 22, 66); font-family: &quot;DM Sans&quot;, sans-serif; font-size: 16px; background-color: rgb(255, 255, 255);\">&nbsp;function is used to concatenate the values of string expressions and places a separator between them. It's particularly useful for aggregating strings in a set of rows into a single string.</span>"
            ],
            "metadata": {
                "language": "sql",
                "azdata_cell_guid": "a9025cd0-dc1b-42e2-9b1c-5932aa71dfba"
            },
            "attachments": {}
        },
        {
            "cell_type": "code",
            "source": [
                "SELECT STRING_AGG(CONCAT(FirstName, ' ', LastName), ', ') AS EmployeeNames\r\n",
                "FROM Employees;\r\n",
                ""
            ],
            "metadata": {
                "azdata_cell_guid": "e3bae85a-7740-4170-adba-48052779f38e",
                "language": "sql"
            },
            "outputs": [],
            "execution_count": null
        },
        {
            "cell_type": "markdown",
            "source": [
                "<span style=\"color: rgb(27, 22, 66); font-family: &quot;DM Sans&quot;, sans-serif; font-size: 16px; background-color: rgb(255, 255, 255);\">The&nbsp;</span> `FORMAT` <span style=\"color: rgb(27, 22, 66); font-family: &quot;DM Sans&quot;, sans-serif; font-size: 16px; background-color: rgb(255, 255, 255);\">&nbsp;function is used to format a value as a string in a specific format. It's particularly useful for formatting dates, numbers, and other data types in a way that's easy to read or display.</span>"
            ],
            "metadata": {
                "azdata_cell_guid": "e96b7283-39fd-4f21-9141-ee7858138624"
            },
            "attachments": {}
        },
        {
            "cell_type": "code",
            "source": [
                "SELECT FORMAT(SaleDate, 'MM/dd/yyyy') AS FormattedSaleDate\r\n",
                "FROM SalesTransactions;\r\n",
                ""
            ],
            "metadata": {
                "azdata_cell_guid": "fb84e2d3-cb61-40d8-8a14-2720c165c133",
                "language": "sql",
                "tags": [
                    "hide_input"
                ]
            },
            "outputs": [],
            "execution_count": null
        },
        {
            "cell_type": "markdown",
            "source": [
                "<span style=\"color: var(--vscode-foreground);\">To format a number as a currency and replace the special character with your&nbsp; selected string. Make sure to put N before the special unicode character.</span>"
            ],
            "metadata": {
                "language": "sql",
                "azdata_cell_guid": "8a9ded62-a8db-4b8f-942a-709a1d436329"
            },
            "attachments": {}
        },
        {
            "cell_type": "code",
            "source": [
                "select replace(format(Amount,'C','en-IN'),N'₹','NPR.') as Amount "
            ],
            "metadata": {
                "language": "sql",
                "azdata_cell_guid": "8ebed03c-fa69-403d-a84b-a87a14791e81"
            },
            "outputs": [],
            "execution_count": null
        },
        {
            "cell_type": "markdown",
            "source": [
                "<span style=\"color: rgb(27, 22, 66); font-family: &quot;DM Sans&quot;, sans-serif; font-size: 16px; background-color: rgb(255, 255, 255);\">Both&nbsp;</span> `CAST` <span style=\"color: rgb(27, 22, 66); font-family: &quot;DM Sans&quot;, sans-serif; font-size: 16px; background-color: rgb(255, 255, 255);\">&nbsp;and&nbsp;</span> `CONVERT` <span style=\"color: rgb(27, 22, 66); font-family: &quot;DM Sans&quot;, sans-serif; font-size: 16px; background-color: rgb(255, 255, 255);\">&nbsp;functions are used to convert one data type to another. They are particularly useful when you need to change the data type of a column or expression to match the requirements of a function or to store data in a different format.</span>"
            ],
            "metadata": {
                "azdata_cell_guid": "0aac2668-175b-4c93-abd6-7ae75bc8c178"
            },
            "attachments": {}
        },
        {
            "cell_type": "code",
            "source": [
                "-- Using CAST\r\n",
                "SELECT CAST('2023-04-01' AS DATE) AS DateValue;\r\n",
                "\r\n",
                "-- Using CONVERT\r\n",
                "SELECT CONVERT(DATE, '2023-04-01') AS DateValue;\r\n",
                ""
            ],
            "metadata": {
                "azdata_cell_guid": "1d70fbf6-ff3e-46cc-b546-ad276c3e3985",
                "language": "sql"
            },
            "outputs": [],
            "execution_count": null
        },
        {
            "cell_type": "markdown",
            "source": [
                "`ISNUMERIC` <span style=\"color: rgb(27, 22, 66); font-family: &quot;DM Sans&quot;, sans-serif; font-size: 16px; background-color: rgb(255, 255, 255);\">&nbsp;checks whether a value is numeric.</span>"
            ],
            "metadata": {
                "azdata_cell_guid": "639150f2-14c0-4c08-aa14-2d8353268569"
            },
            "attachments": {}
        },
        {
            "cell_type": "code",
            "source": [
                "SELECT ISNUMERIC('123') AS IsNumeric;\r\n",
                ""
            ],
            "metadata": {
                "azdata_cell_guid": "aeee6cfc-f189-424a-b6c5-a87ef13855b7",
                "language": "sql"
            },
            "outputs": [],
            "execution_count": null
        },
        {
            "cell_type": "markdown",
            "source": [
                "`GROUPING SETS` <span style=\"color: rgb(27, 22, 66); font-family: &quot;DM Sans&quot;, sans-serif; font-size: 16px; background-color: rgb(255, 255, 255);\">&nbsp;allows you to generate multiple groupings in a single query, which can be particularly useful for cross-tabulations or when you need to analyze data across multiple dimensions.</span>"
            ],
            "metadata": {
                "language": "sql",
                "azdata_cell_guid": "744263b8-b068-4833-91cf-9693b10673c6"
            },
            "attachments": {}
        },
        {
            "cell_type": "code",
            "source": [
                "SELECT Region, Year, SUM(Amount) AS TotalSales\r\n",
                "FROM Sales\r\n",
                "GROUP BY GROUPING SETS ((Region), (Year), ());\r\n",
                ""
            ],
            "metadata": {
                "language": "sql",
                "azdata_cell_guid": "7d9699d8-ca04-467a-86d5-8241cca305bb"
            },
            "outputs": [],
            "execution_count": null
        },
        {
            "cell_type": "markdown",
            "source": [
                "This query returns three sets of results:\n",
                "\n",
                "- The first set groups sales by `Region`.\n",
                "- The second set groups sales by `Year`.\n",
                "- The third set (indicated by `()`) provides a grand total of sales across all regions and years."
            ],
            "metadata": {
                "language": "sql",
                "azdata_cell_guid": "4735a1bc-bcdf-4058-8853-b6d0b061da9d"
            },
            "attachments": {}
        },
        {
            "cell_type": "markdown",
            "source": [
                "<span style=\"color: rgb(27, 22, 66); font-family: &quot;DM Sans&quot;, sans-serif; font-size: 16px; background-color: rgb(255, 255, 255);\">CTEs are used to create temporary result sets that can be referenced within another SELECT, INSERT, UPDATE, or DELETE statement. They are defined within the execution scope of a single statement.</span>"
            ],
            "metadata": {
                "language": "sql",
                "azdata_cell_guid": "bba17034-dcda-44e9-b59a-235149f9ffe0"
            },
            "attachments": {}
        },
        {
            "cell_type": "code",
            "source": [
                "WITH EmployeeHierarchy AS (\r\n",
                "    SELECT EmployeeID, ManagerID, EmployeeName\r\n",
                "    FROM Employees\r\n",
                "    WHERE ManagerID IS NULL -- Top-level employees\r\n",
                "\r\n",
                "    UNION ALL\r\n",
                "\r\n",
                "    SELECT E.EmployeeID, E.ManagerID, E.EmployeeName\r\n",
                "    FROM Employees E\r\n",
                "    INNER JOIN EmployeeHierarchy EH ON E.ManagerID = EH.EmployeeID\r\n",
                ")\r\n",
                "SELECT * FROM EmployeeHierarchy;\r\n",
                ""
            ],
            "metadata": {
                "language": "sql",
                "azdata_cell_guid": "85c6639b-9df6-4731-b69b-7983f006deec"
            },
            "outputs": [],
            "execution_count": null
        },
        {
            "cell_type": "markdown",
            "source": [
                "<span style=\"color: rgb(22, 22, 22); font-family: &quot;Segoe UI&quot;, SegoeUI, &quot;Helvetica Neue&quot;, Helvetica, Arial, sans-serif; font-size: 16px; background-color: rgb(255, 255, 255);\">String_Agg combines the values from a group one or more rows into a delimited list.</span>\n",
                "\n",
                "<span style=\"color: rgb(22, 22, 22); font-family: &quot;Segoe UI&quot;, SegoeUI, &quot;Helvetica Neue&quot;, Helvetica, Arial, sans-serif; font-size: 16px; background-color: rgb(255, 255, 255);\"><br></span>"
            ],
            "metadata": {
                "language": "sql",
                "azdata_cell_guid": "276ca0d0-3615-4d12-a48f-f84a37333d71"
            },
            "attachments": {}
        },
        {
            "cell_type": "code",
            "source": [
                "Declare @Sample Table(CustomerID int, OrderID int)\r\n",
                "Insert @Sample(CustomerID, OrderID) Values\r\n",
                "(100, 75),\r\n",
                "(210, 37),\r\n",
                "(100, 47),\r\n",
                "(330, 235),\r\n",
                "(100, 255),\r\n",
                "(210, 14);"
            ],
            "metadata": {
                "language": "sql",
                "azdata_cell_guid": "4106d5c5-5f84-4efa-a2ce-aca2fe2359a5"
            },
            "outputs": [],
            "execution_count": null
        },
        {
            "cell_type": "markdown",
            "source": [
                "<span style=\"color: rgb(22, 22, 22); font-family: &quot;Segoe UI&quot;, SegoeUI, &quot;Helvetica Neue&quot;, Helvetica, Arial, sans-serif; font-size: 16px; background-color: rgb(255, 255, 255);\">Then you could get a comma delimited list of of each customer's orders by using String_Agg with</span>"
            ],
            "metadata": {
                "language": "sql",
                "azdata_cell_guid": "394ccdee-bb91-474f-9e8d-e8f5fa387454"
            },
            "attachments": {}
        },
        {
            "cell_type": "code",
            "source": [
                "Select CustomerID, String_Agg(OrderID, ', ') As Orders\r\n",
                "From @Sample\r\n",
                "Group By CustomerID\r\n",
                "Order By CustomerID;"
            ],
            "metadata": {
                "language": "sql",
                "azdata_cell_guid": "b94332b4-d0a4-47a7-8e29-685c2d27b989"
            },
            "outputs": [],
            "execution_count": null
        },
        {
            "cell_type": "markdown",
            "source": [
                "The result would look like\n",
                "\n",
                "100 75, 47, 255  \n",
                "210 14, 37  \n",
                "330 235\n",
                "\n",
                "That gives a list of each customer's orders. But the list is in no particular order. If you the list to be in a given order, you would use Within Group. For example"
            ],
            "metadata": {
                "language": "sql",
                "azdata_cell_guid": "af974977-ad32-4ac5-8e86-af24634a10dd"
            },
            "attachments": {}
        },
        {
            "cell_type": "code",
            "source": [
                "Select CustomerID, String_Agg(OrderID, ', ') Within Group(Order By OrderID) As Orders\r\n",
                "From @Sample\r\n",
                "Group By CustomerID\r\n",
                "Order By CustomerID;"
            ],
            "metadata": {
                "language": "sql",
                "azdata_cell_guid": "b7edc4b7-a1bd-4c8e-af67-8fbe9df52e95"
            },
            "outputs": [],
            "execution_count": null
        },
        {
            "cell_type": "markdown",
            "source": [
                "Then the result would be\n",
                "\n",
                "100 47, 75, 255  \n",
                "210 14, 37  \n",
                "330 235\n",
                "\n",
                "  \n",
                "\n",
                "Source: [How string\\_agg function and WITHIN GROUP works - Microsoft Q&A](https://learn.microsoft.com/en-us/answers/questions/187507/how-string-agg-function-and-within-group-works)"
            ],
            "metadata": {
                "language": "sql",
                "azdata_cell_guid": "3d685785-6a15-40dc-9fec-0850803b831c"
            },
            "attachments": {}
        },
        {
            "cell_type": "markdown",
            "source": [
                "<span style=\"color: rgb(27, 22, 66); font-family: &quot;DM Sans&quot;, sans-serif; font-size: 16px; background-color: rgb(255, 255, 255);\">After performing an insert operation in the same scope (e.g., within the same stored procedure, trigger, function, or batch),&nbsp;</span> `SCOPE_IDENTITY()` <span style=\"color: rgb(27, 22, 66); font-family: &quot;DM Sans&quot;, sans-serif; font-size: 16px; background-color: rgb(255, 255, 255);\">&nbsp;will return the last identity value generated for any table in the current session and within the current scope. Specifically, it will return the identity value of the last row inserted into a table that has an identity column.</span>"
            ],
            "metadata": {
                "azdata_cell_guid": "405a9419-45d3-4e33-9102-272e63c57299"
            },
            "attachments": {}
        },
        {
            "cell_type": "code",
            "source": [
                "-- After the insert, SCOPE_IDENTITY() will return the identity value of the newly inserted row\r\n",
                "DECLARE @UKId INT;\r\n",
                "SET @UKId = SCOPE_IDENTITY();\r\n",
                "\r\n",
                "-- Selecting the value stored in @UKId\r\n",
                "SELECT @UKId AS UKId;"
            ],
            "metadata": {
                "azdata_cell_guid": "66573d0b-696e-473b-b448-3840299f3451",
                "language": "sql"
            },
            "outputs": [],
            "execution_count": null
        },
        {
            "cell_type": "markdown",
            "source": [
                " `IDENT_CURRENT('table_name')`: Returns the last identity value generated for a specified table, regardless of the session. This is useful when you want to know the last identity value generated for a particular table, even across different sessions."
            ],
            "metadata": {
                "azdata_cell_guid": "c8b400ff-9dc6-4083-8dcc-0cd978bb9e50"
            },
            "attachments": {}
        },
        {
            "cell_type": "code",
            "source": [
                "SELECT IDENT_CURRENT('tablename') AS LastOrderID;\r\n",
                ""
            ],
            "metadata": {
                "azdata_cell_guid": "49171e70-4440-4045-a84f-cd90e0d79c83",
                "language": "sql"
            },
            "outputs": [],
            "execution_count": null
        }
    ]
}