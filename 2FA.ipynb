{
    "metadata": {
        "kernelspec": {
            "name": "SQL",
            "display_name": "SQL",
            "language": "sql"
        },
        "language_info": {
            "name": "sql",
            "version": ""
        }
    },
    "nbformat_minor": 2,
    "nbformat": 4,
    "cells": [
        {
            "cell_type": "markdown",
            "source": [
                "1.Install the package otp.net\n",
                "\n",
                "```\n",
                "Install-Package Otp.NET\n",
                "\n",
                "```\n",
                "\n",
                "2.Create uri string\n",
                "\n",
                "**`OtpType`**<span style=\"color: var(--vscode-foreground);\">: Specifies the type of OTP. For </span> `Totp`<span style=\"color: var(--vscode-foreground);\">, it represents Time-based One-Time Password. Other types could be </span> `Hotp` <span style=\"color: var(--vscode-foreground);\">(HMAC-based One-Time Password).</span>\n",
                "\n",
                "**`Secret`**<span style=\"color: var(--vscode-foreground);\">: The Base32-encoded secret key used for OTP generation. This is the value that the OTP generator and validator will use.</span>\n",
                "\n",
                "**`AccountName`**<span style=\"color: var(--vscode-foreground);\">: The name or identifier for the account. It’s typically used to label the OTP entry in an authenticator app, such as an email address or username.</span>\n",
                "\n",
                "**`Issuer`**<span style=\"color: var(--vscode-foreground);\">: The entity issuing the OTP. This is often the name of the organization or service providing the OTP.</span>\n",
                "\n",
                "<span style=\"color: var(--vscode-foreground);\">you can get secret using :</span>\n",
                "\n",
                "```\n",
                "// Generate a random key (20 bytes)\n",
                "    var key = KeyGeneration.GenerateRandomKey(20);\n",
                " \n",
                "// Convert the key to Base32 string (for display or storage)\n",
                "    var base32String = Base32Encoding.ToString(key);\n",
                "\n",
                "```\n",
                "```\n",
                "var uriString = new OtpUri(OtpType.Totp, \"secret\", \"AccouneIdentifier\", \"Issuer\").ToString();\n",
                "\n",
                "```\n",
                "\n",
                "3. Get raw key bytes for otp generation\n",
                "\n",
                "> ```\n",
                "> var secret= Base32Encoding.ToBytes(base32String);\n",
                "> ```\n",
                "> ```\n",
                "> var totp = new Totp(secret);\n",
                "> \n",
                "> ```\n",
                "\n",
                "     4.Get the otp\n",
                "\n",
                "```\n",
                "  var otp = totp.ComputeTotp();\n",
                "\n",
                "```"
            ],
            "metadata": {
                "azdata_cell_guid": "662e477f-56d7-43f6-ac9b-b0584f4190cc"
            },
            "attachments": {}
        }
    ]
}