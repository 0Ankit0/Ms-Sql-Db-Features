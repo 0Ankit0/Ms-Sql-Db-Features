{
    "metadata": {
        "kernelspec": {
            "name": "SQL",
            "display_name": "SQL",
            "language": "sql"
        },
        "language_info": {
            "name": "sql",
            "version": ""
        }
    },
    "nbformat_minor": 2,
    "nbformat": 4,
    "cells": [
        {
            "cell_type": "markdown",
            "source": [
                "> #                                                    **Response Caching**"
            ],
            "metadata": {
                "language": "sql",
                "azdata_cell_guid": "a3dc0e75-65d7-4b06-9c10-dd9f405e8e11"
            },
            "attachments": {}
        },
        {
            "cell_type": "code",
            "source": [
                "services.AddResponseCaching();"
            ],
            "metadata": {
                "azdata_cell_guid": "7252136b-b01c-4b58-92f9-7e8c5f34a257",
                "language": "sql"
            },
            "outputs": [],
            "execution_count": null
        },
        {
            "cell_type": "markdown",
            "source": [
                "use the cache before static file"
            ],
            "metadata": {
                "azdata_cell_guid": "5e6eb987-30de-4951-8bae-38aa17be976e"
            },
            "attachments": {}
        },
        {
            "cell_type": "code",
            "source": [
                " app.UseResponseCaching();\r\n",
                " app.UseStaticFiles();\r\n",
                "  app.Use(async (context, next) =>\r\n",
                "{\r\n",
                "    var path = context.Request.Path.Value;\r\n",
                "    if (path.EndsWith(\".css\") || path.EndsWith(\".js\"))\r\n",
                "    {\r\n",
                "        context.Response.GetTypedHeaders().CacheControl = new Microsoft.Net.Http.Headers.CacheControlHeaderValue()\r\n",
                "        {\r\n",
                "            Public = true,\r\n",
                "            MaxAge = TimeSpan.FromDays(1) // Cache for 1 day\r\n",
                "        };\r\n",
                "    }\r\n",
                "    await next.Invoke();\r\n",
                "});"
            ],
            "metadata": {
                "azdata_cell_guid": "c4e49689-52c4-4bea-8194-ea88834dd601",
                "language": "sql"
            },
            "outputs": [],
            "execution_count": null
        }
    ]
}