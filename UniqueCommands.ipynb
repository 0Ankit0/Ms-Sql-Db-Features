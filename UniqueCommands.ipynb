{
    "metadata": {
        "kernelspec": {
            "name": "SQL",
            "display_name": "SQL",
            "language": "sql"
        },
        "language_info": {
            "name": "sql",
            "version": ""
        }
    },
    "nbformat_minor": 2,
    "nbformat": 4,
    "cells": [
        {
            "cell_type": "code",
            "source": [
                "-- Get a list of tables and views in the current database\r\n",
                "SELECT table_catalog [database], table_name [name], table_type [type]\r\n",
                "FROM INFORMATION_SCHEMA.TABLES where TABLE_TYPE='BASE TABLE'"
            ],
            "metadata": {
                "azdata_cell_guid": "e1f1dcb2-9404-4337-b2e5-36242638add9",
                "language": "sql"
            },
            "outputs": [],
            "execution_count": null
        },
        {
            "cell_type": "code",
            "source": [
                "--To get all the column names from a specific table in the current database, you can use the following SQL query:\r\n",
                "\r\n",
                "SELECT COLUMN_NAME \r\n",
                "FROM INFORMATION_SCHEMA.COLUMNS \r\n",
                "WHERE TABLE_NAME = 'YourTableName'"
            ],
            "metadata": {
                "language": "sql",
                "azdata_cell_guid": "3a815053-a99d-4584-9c3d-7b6fa3ebff8e"
            },
            "outputs": [],
            "execution_count": null
        },
        {
            "cell_type": "code",
            "source": [
                "--get output as json\r\n",
                "select * from tb_sys_SMSHistory FOR  JSON AUTO"
            ],
            "metadata": {
                "azdata_cell_guid": "ce1e9c12-a10d-437f-8d08-5b1b264879c1",
                "language": "sql",
                "tags": []
            },
            "outputs": [],
            "execution_count": null
        },
        {
            "cell_type": "code",
            "source": [
                "DECLARE @serverName NVARCHAR(128);\r\n",
                "DECLARE @databaseName NVARCHAR(128);\r\n",
                "\r\n",
                "-- Retrieve the server name\r\n",
                "SET @serverName = @@SERVERNAME;\r\n",
                "\r\n",
                "-- Retrieve the current database name\r\n",
                "SET @databaseName = DB_NAME();\r\n",
                "\r\n",
                "PRINT 'Server Name: ' + @serverName;\r\n",
                "PRINT 'Database Name: ' + @databaseName;"
            ],
            "metadata": {
                "azdata_cell_guid": "7d46d16d-3698-4183-b293-4c4f399d7a6b",
                "language": "sql"
            },
            "outputs": [],
            "execution_count": null
        },
        {
            "cell_type": "code",
            "source": [
                "--sort and limit the total no of shown rows\r\n",
                "\r\n",
                "select * from [tableName] \r\n",
                "order by [columnName] [asc|desc]\r\n",
                "offset N rows \r\n",
                "fetch next N rows only"
            ],
            "metadata": {
                "azdata_cell_guid": "c2f94bf3-50ca-4935-9eb9-827d9229efa0",
                "language": "sql"
            },
            "outputs": [],
            "execution_count": null
        },
        {
            "cell_type": "code",
            "source": [
                "--To generate connection string \r\n",
                "SELECT\r\n",
                "    'Server=' + @@servername +\r\n",
                "    ';Database=' + db_name() +\r\n",
                "    ';Trusted_Connection=True' +\r\n",
                "    ';TrustServerCertificate=True' AS ConnectionString\r\n",
                "FROM sys.databases\r\n",
                "WHERE name = db_name()"
            ],
            "metadata": {
                "azdata_cell_guid": "009a38b6-bfd6-4da7-9d77-657f4a582597",
                "language": "sql"
            },
            "outputs": [],
            "execution_count": null
        }
    ]
}