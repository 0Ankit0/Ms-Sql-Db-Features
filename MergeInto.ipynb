{
    "metadata": {
        "kernelspec": {
            "name": "SQL",
            "display_name": "SQL",
            "language": "sql"
        },
        "language_info": {
            "name": "sql",
            "version": ""
        }
    },
    "nbformat_minor": 2,
    "nbformat": 4,
    "cells": [
        {
            "cell_type": "code",
            "source": [
                " MERGE INTO maintable AS t\r\n",
                "        USING subtable AS s\r\n",
                "        ON t.column1=s.column2\r\n",
                "        WHEN MATCHED THEN\r\n",
                "            UPDATE SET \r\n",
                "               column2=value2--will be inserted to maintable\r\n",
                "        WHEN NOT MATCHED THEN\r\n",
                "            INSERT ( --will be inserted to maintable\r\n",
                "                column1\r\n",
                "            )\r\n",
                "            VALUES (\r\n",
                "                value1\r\n",
                "            );"
            ],
            "metadata": {
                "azdata_cell_guid": "2e0f5331-66ac-44fd-a95b-937a4707b9e1",
                "language": "sql"
            },
            "outputs": [],
            "execution_count": null
        }
    ]
}