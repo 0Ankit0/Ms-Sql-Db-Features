{
    "metadata": {
        "kernelspec": {
            "name": "SQL",
            "display_name": "SQL",
            "language": "sql"
        },
        "language_info": {
            "name": "sql",
            "version": ""
        }
    },
    "nbformat_minor": 2,
    "nbformat": 4,
    "cells": [
        {
            "cell_type": "markdown",
            "source": [
                "<span style=\"background-color: rgb(255, 255, 0);\">To make the select2 show in the modal</span>\n",
                "\n",
                "```\n",
                "<style>\n",
                "    .modal {\n",
                "        z-index: 9999 !important;\n",
                "    }\n",
                " \n",
                "    .select2-container--open {\n",
                "        z-index: 9999999 !important;\n",
                "    }\n",
                " \n",
                "    .select2-container--default .select2-selection--single .select2-selection__rendered {\n",
                "        padding: 1px 0px 5px 14px;\n",
                "    }\n",
                "</style>\n",
                "```"
            ],
            "metadata": {
                "azdata_cell_guid": "7581f2c7-df17-4a70-83b1-f5acf19b1185"
            },
            "attachments": {}
        },
        {
            "cell_type": "markdown",
            "source": [
                "To trigger a enter event"
            ],
            "metadata": {
                "language": "sql",
                "azdata_cell_guid": "4061f428-f504-4f0b-976b-3fbb69a6df0f"
            },
            "attachments": {}
        },
        {
            "cell_type": "code",
            "source": [
                "$(\"#ReceiverCode\")\r\n",
                ".trigger(jQuery.Event('keydown', { keyCode: 13 }));"
            ],
            "metadata": {
                "azdata_cell_guid": "1df4a491-eca5-4b12-9780-0eefa06cab70",
                "language": "sql"
            },
            "outputs": [],
            "execution_count": null
        }
    ]
}