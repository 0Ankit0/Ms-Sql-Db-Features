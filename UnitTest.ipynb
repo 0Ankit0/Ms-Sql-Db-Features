{
    "metadata": {
        "kernelspec": {
            "name": "SQL",
            "display_name": "SQL",
            "language": "sql"
        },
        "language_info": {
            "name": "sql",
            "version": ""
        }
    },
    "nbformat_minor": 2,
    "nbformat": 4,
    "cells": [
        {
            "cell_type": "markdown",
            "source": [
                "**1.** **Set Up the Testing Project**\n",
                "\n",
                "        In Visual Studio: `Add > New Project > xUnit Test Project`\n",
                "\n",
                "**2.Install required packages**\n",
                "\n",
                "```\n",
                "Install-Package xunit\n",
                "Install-Package xunit.runner.visualstudio\n",
                "Install-Package Moq\n",
                "Install-Package Microsoft.EntityFrameworkCore.InMemory\n",
                "\n",
                "```\n",
                "\n",
                "Or if you want to restore the packages \n",
                "\n",
                "```\n",
                "dotnet restore\n",
                "\n",
                "```\n",
                "\n",
                "**3.****Add Reference**\n",
                "\n",
                "- Select **Add \\> Reference...**.\n",
                "- In the **Reference Manager** window, navigate to the **Projects** tab.\n",
                "- Check the box next to the project you want to reference.\n",
                "- Click **OK** to add the reference.\n",
                "\n",
                "**4.Write test and execute them**"
            ],
            "metadata": {
                "azdata_cell_guid": "bc600e79-5b7e-4311-b549-90447b82a53f"
            },
            "attachments": {}
        }
    ]
}