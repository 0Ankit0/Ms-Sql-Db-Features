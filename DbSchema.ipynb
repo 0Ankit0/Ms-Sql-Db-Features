{
    "metadata": {
        "kernelspec": {
            "name": "SQL",
            "display_name": "SQL",
            "language": "sql"
        },
        "language_info": {
            "name": "sql",
            "version": ""
        }
    },
    "nbformat_minor": 2,
    "nbformat": 4,
    "cells": [
        {
            "cell_type": "code",
            "source": [
                "--Create a schema\r\n",
                "CREATE SCHEMA Users;\r\n",
                "GO\r\n",
                ""
            ],
            "metadata": {
                "azdata_cell_guid": "90d0b8e7-cf67-489b-ba25-ec7805f2b89b",
                "language": "sql"
            },
            "outputs": [],
            "execution_count": null
        },
        {
            "cell_type": "code",
            "source": [
                "--Grant Permissions \r\n",
                "GRANT SELECT, INSERT, UPDATE, DELETE ON SCHEMA::Users TO public;\r\n",
                "GO\r\n",
                ""
            ],
            "metadata": {
                "language": "sql",
                "azdata_cell_guid": "c94a307b-c98d-4efb-bb30-ef414ad41927"
            },
            "outputs": [],
            "execution_count": null
        },
        {
            "cell_type": "code",
            "source": [
                "--Move table to another schema\r\n",
                "ALTER SCHEMA Users TRANSFER dbo.UserMaster;\r\n",
                ""
            ],
            "metadata": {
                "language": "sql",
                "azdata_cell_guid": "b66b717e-7066-4c94-bdfe-432eb9c2e49a"
            },
            "outputs": [],
            "execution_count": null
        },
        {
            "cell_type": "code",
            "source": [
                "--To delete a schema you have to make sure that it is empty\r\n",
                "DECLARE @OldSchemaName NVARCHAR(128) = 'OldSchema'; -- Replace with your current schema name\r\n",
                "DECLARE @NewSchemaName NVARCHAR(128) = 'NewSchema'; -- Replace with your new schema name\r\n",
                "DECLARE @sql NVARCHAR(MAX) = '';\r\n",
                "\r\n",
                "-- Transfer Tables\r\n",
                "SELECT @sql += 'ALTER SCHEMA [' + @NewSchemaName + '] TRANSFER [' + @OldSchemaName + '].[' + name + '];' + CHAR(13)\r\n",
                "FROM sys.tables\r\n",
                "WHERE schema_id = SCHEMA_ID(@OldSchemaName);\r\n",
                "\r\n",
                "-- Transfer Views\r\n",
                "SELECT @sql += 'ALTER SCHEMA [' + @NewSchemaName + '] TRANSFER [' + @OldSchemaName + '].[' + name + '];' + CHAR(13)\r\n",
                "FROM sys.views\r\n",
                "WHERE schema_id = SCHEMA_ID(@OldSchemaName);\r\n",
                "\r\n",
                "-- Transfer Stored Procedures\r\n",
                "SELECT @sql += 'ALTER SCHEMA [' + @NewSchemaName + '] TRANSFER [' + @OldSchemaName + '].[' + name + '];' + CHAR(13)\r\n",
                "FROM sys.procedures\r\n",
                "WHERE schema_id = SCHEMA_ID(@OldSchemaName);\r\n",
                "\r\n",
                "-- Transfer Functions\r\n",
                "SELECT @sql += 'ALTER SCHEMA [' + @NewSchemaName + '] TRANSFER [' + @OldSchemaName + '].[' + name + '];' + CHAR(13)\r\n",
                "FROM sys.objects\r\n",
                "WHERE schema_id = SCHEMA_ID(@OldSchemaName)\r\n",
                "    AND type IN ('FN', 'TF', 'IF', 'FS', 'FT'); -- Scalar, Table-valued, and Aggregate Functions\r\n",
                "\r\n",
                "-- Transfer Synonyms\r\n",
                "SELECT @sql += 'ALTER SCHEMA [' + @NewSchemaName + '] TRANSFER [' + @OldSchemaName + '].[' + name + '];' + CHAR(13)\r\n",
                "FROM sys.synonyms\r\n",
                "WHERE schema_id = SCHEMA_ID(@OldSchemaName);\r\n",
                "\r\n",
                "-- Transfer Sequences\r\n",
                "SELECT @sql += 'ALTER SCHEMA [' + @NewSchemaName + '] TRANSFER [' + @OldSchemaName + '].[' + name + '];' + CHAR(13)\r\n",
                "FROM sys.sequences\r\n",
                "WHERE schema_id = SCHEMA_ID(@OldSchemaName);\r\n",
                "\r\n",
                "-- Transfer Types\r\n",
                "SELECT @sql += 'ALTER SCHEMA [' + @NewSchemaName + '] TRANSFER [' + @OldSchemaName + '].[' + name + '];' + CHAR(13)\r\n",
                "FROM sys.types\r\n",
                "WHERE schema_id = SCHEMA_ID(@OldSchemaName) AND is_user_defined = 1;\r\n",
                "\r\n",
                "-- Transfer XML Schema Collections\r\n",
                "SELECT @sql += 'ALTER SCHEMA [' + @NewSchemaName + '] TRANSFER [' + @OldSchemaName + '].[' + XML_collection_name + '];' + CHAR(13)\r\n",
                "FROM sys.xml_schema_collections\r\n",
                "WHERE schema_id = SCHEMA_ID(@OldSchemaName) AND is_xml_namespace_default = 0;\r\n",
                "\r\n",
                "EXEC sp_executesql @sql;--move all tables to new schema\r\n",
                "\r\n",
                "--then drop the schema\r\n",
                "DROP SCHEMA OldSchema;\r\n",
                ""
            ],
            "metadata": {
                "language": "sql",
                "azdata_cell_guid": "849bbf90-78e7-4f5d-81e4-d79f0fe2311b"
            },
            "outputs": [],
            "execution_count": null
        },
        {
            "cell_type": "code",
            "source": [
                "--To revoke the permission \r\n",
                "REVOKE [permission] ON [securable] FROM [principal];\r\n",
                "--permission: The type of permission you want to revoke (e.g., SELECT, INSERT, UPDATE, etc.).\r\n",
                "--securable: The object or scope for which the permission was granted (e.g., table, view, schema).\r\n",
                "--principal: The user, role, or group from whom you want to revoke the permission.\r\n",
                ""
            ],
            "metadata": {
                "language": "sql",
                "azdata_cell_guid": "60db845a-1cd8-4c13-93d3-3c560cc87683"
            },
            "outputs": [],
            "execution_count": null
        }
    ]
}