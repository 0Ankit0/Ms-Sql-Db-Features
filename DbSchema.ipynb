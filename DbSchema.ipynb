{
    "metadata": {
        "kernelspec": {
            "name": "SQL",
            "display_name": "SQL",
            "language": "sql"
        },
        "language_info": {
            "name": "sql",
            "version": ""
        }
    },
    "nbformat_minor": 2,
    "nbformat": 4,
    "cells": [
        {
            "cell_type": "markdown",
            "source": [
                "Create a schema\n",
                "```\n",
                "CREATE SCHEMA Users;\n",
                "GO\n",
                "\n",
                "```\n",
                "\n",
                "Grant Permissions\n",
                "\n",
                "```\n",
                "GRANT SELECT, INSERT, UPDATE, DELETE ON SCHEMA::Users TO public;\n",
                "GO\n",
                "\n",
                "```"
            ],
            "metadata": {
                "azdata_cell_guid": "98641131-8f2c-4b16-8aae-633aff697e32"
            },
            "attachments": {}
        }
    ]
}