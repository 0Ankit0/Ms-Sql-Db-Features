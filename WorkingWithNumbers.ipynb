{
    "metadata": {
        "kernelspec": {
            "name": "SQL",
            "display_name": "SQL",
            "language": "sql"
        },
        "language_info": {
            "name": "sql",
            "version": ""
        }
    },
    "nbformat_minor": 2,
    "nbformat": 4,
    "cells": [
        {
            "cell_type": "markdown",
            "source": [
                "`ISNUMERIC()`  <span style=\"color: rgb(27, 22, 66); font-family: &quot;DM Sans&quot;, sans-serif; font-size: 16px; background-color: rgb(255, 255, 255);\">&nbsp;is a built-in function in SQL Server that determines whether a character string is a numeric value. It returns&nbsp;</span>  `1`  <span style=\"color: rgb(27, 22, 66); font-family: &quot;DM Sans&quot;, sans-serif; font-size: 16px; background-color: rgb(255, 255, 255);\">&nbsp;if the input string can be converted to a numeric data type without causing an error; otherwise, it returns&nbsp;</span>  `0`<span style=\"color: rgb(27, 22, 66); font-family: &quot;DM Sans&quot;, sans-serif; font-size: 16px; background-color: rgb(255, 255, 255);\">. This function is particularly useful for validating data types within SQL queries.</span>\n",
                "\n",
                "<span style=\"color: rgb(27, 22, 66); font-family: &quot;DM Sans&quot;, sans-serif; font-size: 16px; background-color: rgb(255, 255, 255);\">However, it's important to note that&nbsp;</span> `ISNUMERIC()` <span style=\"color: rgb(27, 22, 66); font-family: &quot;DM Sans&quot;, sans-serif; font-size: 16px; background-color: rgb(255, 255, 255);\">&nbsp;considers certain characters that are not digits as numeric, such as plus (+), minus (-), and decimal point (.). For these reasons, while&nbsp;</span> `ISNUMERIC()` <span style=\"color: rgb(27, 22, 66); font-family: &quot;DM Sans&quot;, sans-serif; font-size: 16px; background-color: rgb(255, 255, 255);\">&nbsp;is helpful for basic numeric validation, it may not always behave as expected for complex scenarios involving currency or scientific notation.</span><span style=\"color: rgb(27, 22, 66); font-family: &quot;DM Sans&quot;, sans-serif; font-size: 16px; background-color: rgb(255, 255, 255);\"><br></span>"
            ],
            "metadata": {
                "azdata_cell_guid": "dd5bacad-9af2-496f-b95d-88179c274b56"
            },
            "attachments": {}
        },
        {
            "cell_type": "code",
            "source": [
                "SELECT ISNUMERIC('$100') AS IsNumeric;-- Output: 1\r\n",
                "\r\n",
                "SELECT ISNUMERIC('%25') AS IsNumeric;-- Output: 1\r\n",
                "\r\n",
                "SELECT ISNUMERIC('abc') AS IsNumeric;-- Output: 0"
            ],
            "metadata": {
                "azdata_cell_guid": "b75c0e1f-f8dd-424f-9529-ed11652941c4",
                "language": "sql"
            },
            "outputs": [],
            "execution_count": null
        },
        {
            "cell_type": "markdown",
            "source": [
                "#### 1. `ABS(number)`\n",
                "\n",
                "Returns the absolute value of a number."
            ],
            "metadata": {
                "azdata_cell_guid": "1ac4e79f-c44a-4252-9999-ad20f0bd00e2"
            },
            "attachments": {}
        },
        {
            "cell_type": "code",
            "source": [
                "SELECT ABS(-10) AS AbsoluteValue;"
            ],
            "metadata": {
                "azdata_cell_guid": "551898fc-8541-4ba9-a87f-0b49af7cd760",
                "language": "sql"
            },
            "outputs": [],
            "execution_count": null
        },
        {
            "cell_type": "markdown",
            "source": [
                "#### 2. `CEILING(number)`\n",
                "\n",
                "Rounds a number up to the nearest whole number."
            ],
            "metadata": {
                "language": "sql",
                "azdata_cell_guid": "35018c66-3fce-4478-8603-2883156cd175"
            },
            "attachments": {}
        },
        {
            "cell_type": "code",
            "source": [
                "SELECT CEILING(3.14) AS RoundedUp; "
            ],
            "metadata": {
                "language": "sql",
                "azdata_cell_guid": "e2d06101-a24d-4ede-8d7b-29fc609cae65"
            },
            "outputs": [],
            "execution_count": null
        },
        {
            "cell_type": "markdown",
            "source": [
                "#### 3. `FLOOR(number)`\n",
                "\n",
                "Rounds a number down to the nearest whole number."
            ],
            "metadata": {
                "language": "sql",
                "azdata_cell_guid": "271b6820-1558-449d-9ba6-6d4e95992c07"
            },
            "attachments": {}
        },
        {
            "cell_type": "code",
            "source": [
                "SELECT FLOOR(3.14) AS RoundedDown;"
            ],
            "metadata": {
                "language": "sql",
                "azdata_cell_guid": "eb60042f-c20f-4e0e-bbac-a07c3f842dcd"
            },
            "outputs": [],
            "execution_count": null
        },
        {
            "cell_type": "markdown",
            "source": [
                "#### 4. `ROUND(number, length)`\n",
                "\n",
                "Rounds a number to the specified length."
            ],
            "metadata": {
                "language": "sql",
                "azdata_cell_guid": "e675bdc8-c3f3-4ca0-a972-f06c7e770678"
            },
            "attachments": {}
        },
        {
            "cell_type": "code",
            "source": [
                "SELECT ROUND(3.14159, 2) AS RoundedNumber;"
            ],
            "metadata": {
                "language": "sql",
                "azdata_cell_guid": "ceec9da8-7eba-47b0-aeaf-4f0708f221a6"
            },
            "outputs": [],
            "execution_count": null
        },
        {
            "cell_type": "markdown",
            "source": [
                "#### 5. `RAND([seed])`\n",
                "\n",
                "Generates a random float between 0 and 1."
            ],
            "metadata": {
                "language": "sql",
                "azdata_cell_guid": "52d311af-54d3-4efe-b298-7f18d9d1bc4f"
            },
            "attachments": {}
        },
        {
            "cell_type": "code",
            "source": [
                "SELECT RAND() AS RandomFloat;"
            ],
            "metadata": {
                "language": "sql",
                "azdata_cell_guid": "3d60124d-cd63-4fca-b2ef-ca04e4aac9e4"
            },
            "outputs": [],
            "execution_count": null
        }
    ]
}