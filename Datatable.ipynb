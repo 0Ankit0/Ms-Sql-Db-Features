{
    "metadata": {
        "kernelspec": {
            "name": "SQL",
            "display_name": "SQL",
            "language": "sql"
        },
        "language_info": {
            "name": "sql",
            "version": ""
        }
    },
    "nbformat_minor": 2,
    "nbformat": 4,
    "cells": [
        {
            "cell_type": "markdown",
            "source": [
                "The default value for the `dom` option in DataTables is `'lfrtip'`. This configuration specifies where the various elements of the table interface should be placed:\n",
                "\n",
                "- `l`: Length changing input control\n",
                "- `f`: Filtering input\n",
                "- `r`: Processing display element\n",
                "- `t`: Table\n",
                "- `i`: Table information summary\n",
                "- `p`: Pagination control\n",
                "- `B`: Buttons\n",
                "\n",
                "This layout places the length changing (`l`) and filtering (`f`) inputs above the table (`t`), followed by the pagination (`p`) and buttons (`B`)."
            ],
            "metadata": {
                "azdata_cell_guid": "0e2c38c4-02b7-4987-a77a-b68e33af04b8"
            },
            "attachments": {}
        }
    ]
}