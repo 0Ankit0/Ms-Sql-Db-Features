{
    "metadata": {
        "kernelspec": {
            "name": "SQL",
            "display_name": "SQL",
            "language": "sql"
        },
        "language_info": {
            "name": "sql",
            "version": ""
        }
    },
    "nbformat_minor": 2,
    "nbformat": 4,
    "cells": [
        {
            "cell_type": "code",
            "source": [
                "CREATE TYPE dbo.MyIntArray AS TABLE\r\n",
                "(\r\n",
                "    id INT\r\n",
                ");\r\n",
                "\r\n",
                ""
            ],
            "metadata": {
                "azdata_cell_guid": "8dc000fa-171a-43df-af44-0f48c329425f",
                "language": "sql"
            },
            "outputs": [],
            "execution_count": null
        },
        {
            "cell_type": "code",
            "source": [
                "CREATE PROCEDURE dbo.MyProcedure\r\n",
                "    @MyArray dbo.MyIntArray READONLY\r\n",
                "AS\r\n",
                "BEGIN\r\n",
                "    INSERT INTO dbo.MyTable (Value)\r\n",
                "    SELECT id FROM @MyArray;\r\n",
                "END;\r\n",
                ""
            ],
            "metadata": {
                "azdata_cell_guid": "3fcd9a91-8b02-4c34-9d39-4c53ddf4c6c6",
                "language": "sql"
            },
            "outputs": [],
            "execution_count": null
        }
    ]
}