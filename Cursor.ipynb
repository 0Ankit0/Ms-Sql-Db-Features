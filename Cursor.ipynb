{
    "metadata": {
        "kernelspec": {
            "name": "SQL",
            "display_name": "SQL",
            "language": "sql"
        },
        "language_info": {
            "name": "sql",
            "version": ""
        }
    },
    "nbformat_minor": 2,
    "nbformat": 4,
    "cells": [
        {
            "cell_type": "code",
            "source": [
                "-- Declare variables\r\n",
                "DECLARE @CustomerID INT;\r\n",
                "DECLARE @CustomerName VARCHAR(255);\r\n",
                "\r\n",
                "-- Declare cursor\r\n",
                "DECLARE CustomerCursor CURSOR FOR\r\n",
                "SELECT ID, Name FROM Customers;\r\n",
                "\r\n",
                "-- Open cursor\r\n",
                "OPEN CustomerCursor;\r\n",
                "\r\n",
                "-- Fetch and process rows\r\n",
                "FETCH NEXT FROM CustomerCursor INTO @CustomerID, @CustomerName;\r\n",
                "WHILE @@FETCH_STATUS = 0\r\n",
                "BEGIN\r\n",
                "    -- Perform operations on each row\r\n",
                "    PRINT 'Processing customer: ' + @CustomerName;\r\n",
                "\r\n",
                "    -- Fetch next row\r\n",
                "    FETCH NEXT FROM CustomerCursor INTO @CustomerID, @CustomerName;\r\n",
                "END;\r\n",
                "\r\n",
                "-- Close and deallocate cursor\r\n",
                "CLOSE CustomerCursor;\r\n",
                "DEALLOCATE CustomerCursor;\r\n",
                ""
            ],
            "metadata": {
                "azdata_cell_guid": "db5da0f5-1794-47ad-99e2-b2c4f1666ac0",
                "language": "sql"
            },
            "outputs": [],
            "execution_count": null
        }
    ]
}