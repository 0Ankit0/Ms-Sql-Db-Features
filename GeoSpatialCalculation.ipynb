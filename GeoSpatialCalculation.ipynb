{
    "metadata": {
        "kernelspec": {
            "name": "SQL",
            "display_name": "SQL",
            "language": "sql"
        },
        "language_info": {
            "name": "sql",
            "version": ""
        }
    },
    "nbformat_minor": 2,
    "nbformat": 4,
    "cells": [
        {
            "cell_type": "markdown",
            "source": [
                "To Get the Distance between two points:"
            ],
            "metadata": {
                "azdata_cell_guid": "ea9803c8-b515-48d0-a435-0822222b4b39"
            },
            "attachments": {}
        },
        {
            "cell_type": "code",
            "source": [
                "select geography::point(lat1, long1, 4326).STDistance(geography::point(lat2, long2, 4326)) as distanceInMtr from table_name\r\n",
                "\r\n",
                "select geography::point(lat1, long1, 4326).STDistance(geography::point(lat2, long2, 4326))/1000 as distanceInKm from table_name"
            ],
            "metadata": {
                "azdata_cell_guid": "8206c760-0b97-478e-9bb1-2d72a769436c",
                "language": "sql"
            },
            "outputs": [],
            "execution_count": null
        },
        {
            "cell_type": "markdown",
            "source": [
                "Create a buffer around a point and check if another point lies within that buffer or not"
            ],
            "metadata": {
                "azdata_cell_guid": "edc8fb2b-4eb3-4835-b2c9-7dcdeae22312"
            },
            "attachments": {}
        },
        {
            "cell_type": "code",
            "source": [
                "-- Step 1: Create the buffer zone around a point\r\n",
                "DECLARE @bufferZone GEOGRAPHY = GEOGRAPHY::Point(28.2771005, 83.506795, 4326).STBuffer(5000);\r\n",
                "\r\n",
                "-- Step 2: Define the point you want to check\r\n",
                "DECLARE @pointToCheck GEOGRAPHY = GEOGRAPHY::Point(28.280000, 83.510000, 4326);\r\n",
                "\r\n",
                "-- Step 3: Check if the point lies within the buffer zone\r\n",
                "SELECT @bufferZone.STIntersects(@pointToCheck) AS IsInsideBufferZone;\r\n",
                ""
            ],
            "metadata": {
                "azdata_cell_guid": "d13498d4-2fa6-4841-be50-29531753d985",
                "language": "sql"
            },
            "outputs": [],
            "execution_count": null
        }
    ]
}