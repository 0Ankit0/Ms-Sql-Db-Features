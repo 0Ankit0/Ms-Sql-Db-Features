{
    "metadata": {
        "kernelspec": {
            "name": "SQL",
            "display_name": "SQL",
            "language": "sql"
        },
        "language_info": {
            "name": "sql",
            "version": ""
        }
    },
    "nbformat_minor": 2,
    "nbformat": 4,
    "cells": [
        {
            "cell_type": "markdown",
            "source": [
                "**Use controller as a service in the service file**\n",
                "\n",
                "In Startup:\n",
                "\n",
                "```\n",
                "services.AddTransient<LoginController>();\n",
                "\n",
                "```\n",
                "\n",
                "In The service:\n",
                "\n",
                "```\n",
                "private readonly IServiceProvider _serviceProvider;\n",
                "        public serviceconstructor(IServiceProvider serviceProvider)\n",
                "        {\n",
                "            _serviceProvider = serviceProvider;\n",
                "        }\n",
                "\n",
                "```\n",
                "Where you want to use : \n",
                "\n",
                "```\n",
                "var notification = _serviceProvider.GetRequiredService<NotificationController>();\n",
                "\n",
                "```"
            ],
            "metadata": {
                "azdata_cell_guid": "5497a052-52a8-49be-9785-071385988492"
            },
            "attachments": {}
        },
        {
            "cell_type": "markdown",
            "source": [
                "To use Database sql dependency:\n",
                "\n",
                "```\n",
                "using LOGISTIC_BACKEND.Hubs;\n",
                "using Microsoft.AspNetCore.SignalR;\n",
                "using System;\n",
                "using TableDependency.SqlClient;\n",
                "using TableDependency.SqlClient.Base.Enums;\n",
                "using TableDependency.SqlClient.Base.EventArgs;\n",
                "\n",
                "\n",
                "public void  SubscribeTableDependency (string logOrderStatusHistoryTableName)\n",
                "        {\n",
                "string connectionString = \"your connection string\";\n",
                "                if (string.IsNullOrEmpty(connectionString))\n",
                "                {\n",
                "                    throw new ArgumentException(\"Connection string cannot be null or empty.\", nameof(connectionString));\n",
                "                }\n",
                "                if (string.IsNullOrEmpty(logOrderStatusHistoryTableName))\t\t\t\t{\n",
                "                    throw new ArgumentException(\"Table names cannot be null or empty.\", nameof(logOrderStatusHistoryTableName));\t\t\t\t}\n",
                "_logOrderStatusHistoryTableDependency = new SqlTableDependency<LogOrderStatusHistory>(connectionString, logOrderStatusHistoryTableName);\n",
                "                _logOrderStatusHistoryTableDependency.OnChanged += (sender, e) => LogOrderStatusHistoryTableDependency_OnChanged(sender, e);\n",
                "                \n",
                "                _logOrderStatusHistoryTableDependency.Start();\n",
                "            \n",
                "        }\n",
                "\n",
                "private async void LogOrderStatusHistoryTableDependency_OnChanged(object sender, RecordChangedEventArgs<LogOrderStatusHistory> e)\n",
                "        {\n",
                "            if (e.ChangeType == ChangeType.Insert)\n",
                "            {\n",
                "// do sth\n",
                "                        }\n",
                "                }\n",
                "\n",
                "public class LogOrderStatusHistory\n",
                "\t{\n",
                "             //put all the columns the same as in the database\n",
                "        }\n",
                "\n",
                "```"
            ],
            "metadata": {
                "azdata_cell_guid": "c855c80f-2517-4b6b-85fa-c75343db702d"
            },
            "attachments": {}
        }
    ]
}